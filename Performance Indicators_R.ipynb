{
 "cells": [
  {
   "cell_type": "markdown",
   "metadata": {
    "citation-manager": {
     "citations": {
      "45sie": [
       {
        "id": "12028432/QX6S99F9",
        "source": "zotero"
       }
      ],
      "5y2vp": [
       {
        "id": "12028432/KW9EFC6I",
        "source": "zotero"
       }
      ],
      "hi8nm": [
       {
        "id": "12028432/9QBIFUHZ",
        "source": "zotero"
       }
      ],
      "imgp5": [
       {
        "id": "12028432/PN66USTB",
        "source": "zotero"
       }
      ],
      "xd93k": [
       {
        "id": "12028432/88UCGBRK",
        "source": "zotero"
       }
      ]
     }
    },
    "notebookRunGroups": {
     "groupValue": "1"
    }
   },
   "source": [
    "This notebook prepared based on the framework developed by <cite id=\"imgp5\"><a href=\"#zotero%7C12028432%2FPN66USTB\">(Chukalla et al., 2022)</a></cite>. \n",
    "\n",
    "## Important References\n",
    "\n",
    "* <!-- BIBLIOGRAPHY START -->\n",
    "<div class=\"csl-bib-body\">\n",
    "  <div class=\"csl-entry\"><i id=\"zotero|12028432/KW9EFC6I\"></i>Bashe, T., Alamirew, T., &#38; Dejen, Z. A. (2023). Evaluating Performance of Community-based Irrigation Schemes Using Remote-sensing Technologies to Enhance Sustainable Irrigation Water Management. <i>Water Conservation Science and Engineering</i>, <i>8</i>(1), 45. <a href=\"https://doi.org/10.1007/s41101-023-00222-y\">https://doi.org/10.1007/s41101-023-00222-y</a></div>\n",
    "* <div class=\"csl-entry\"><i id=\"zotero|12028432/QX6S99F9\"></i>Bastiaanssen, W. G. M., &#38; Bos, M. G. (1999). Irrigation Performance Indicators Based on Remotely Sensed Data: a Review of Literature. <i>Irrigation and Drainage Systems</i>. <a href=\"https://doi.org/10.1023/a:1006355315251\">https://doi.org/10.1023/a:1006355315251</a></div>\n",
    "* <div class=\"csl-entry\"><i id=\"zotero|12028432/PN66USTB\"></i>Chukalla, A. D., Mul, M. L., van der Zaag, P., van Halsema, G., Mubaya, E., Muchanga, E., den Besten, N., &#38; Karimi, P. (2022). A framework for irrigation performance assessment using WaPOR data: the case of a sugarcane estate in Mozambique. <i>Hydrology and Earth System Sciences</i>, <i>26</i>(10), 2759–2778. <a href=\"https://doi.org/10.5194/hess-26-2759-2022\">https://doi.org/10.5194/hess-26-2759-2022</a></div>\n",
    "*  <div class=\"csl-entry\"><i id=\"zotero|12028432/88UCGBRK\"></i>Karatas, B. S., Akkuzu, E., Unal, H. B., Asik, S., &#38; Avci, M. (2009). Using satellite remote sensing to assess irrigation performance in Water User Associations in the Lower Gediz Basin, Turkey. <i>Agricultural Water Management</i>, <i>96</i>(6), 982–990. <a href=\"https://doi.org/10.1016/j.agwat.2009.01.010\">https://doi.org/10.1016/j.agwat.2009.01.010</a></div>\n",
    "*  <div class=\"csl-entry\"><i id=\"zotero|12028432/9QBIFUHZ\"></i>Karimi, P., Bongani, B., Blatchford, M., &#38; de Fraiture, C. (2019). Global Satellite-Based ET Products for the Local Level Irrigation Management: An Application of Irrigation Performance Assessment in the Sugarbelt of Swaziland. <i>Remote Sensing</i>, <i>11</i>(6), 705. <a href=\"https://doi.org/10.3390/rs11060705\">https://doi.org/10.3390/rs11060705</a></div>\n",
    "</div>\n",
    "<!-- BIBLIOGRAPHY END -->\n"
   ]
  },
  {
   "attachments": {},
   "cell_type": "markdown",
   "metadata": {},
   "source": [
    "# Import Libraries\n"
   ]
  },
  {
   "cell_type": "code",
   "execution_count": null,
   "metadata": {
    "vscode": {
     "languageId": "r"
    }
   },
   "outputs": [],
   "source": [
    "library(terra)\n",
    "library(ggplot2)\n",
    "library(tidyterra)\n",
    "library(dplyr)\n",
    "library(scales)\n",
    "library(readxl)"
   ]
  },
  {
   "attachments": {},
   "cell_type": "markdown",
   "metadata": {},
   "source": [
    "# Import Datasets\n",
    "\n",
    "-   Seasonal AET, PCP (computed prior to this notebook using GEE python)\n",
    "-   Boundary of scheme and Fields (from design document and digitizing the latest google earth image)\n",
    "-   PET (ETo \\* kc)\n",
    "-   discharge data (measured from the scheme)\n"
   ]
  },
  {
   "cell_type": "code",
   "execution_count": null,
   "metadata": {
    "vscode": {
     "languageId": "r"
    }
   },
   "outputs": [],
   "source": [
    "fields <- vect(\"E:/PhD/Thesis/Irrigation Performance/Analysis/Data/Fields.shp\")\n",
    "boundary <- vect(\"E:/PhD/Thesis/Irrigation Performance/Analysis/Data/Boundary.shp\") # nolint\n",
    "et22 <- rast(\"E:/PhD/Thesis/Irrigation Performance/Result/Season Data/ETa22.tif\") # nolint\n",
    "et23 <- rast(\"E:/PhD/Thesis/Irrigation Performance/Result/Season Data/ETa23.tif\") # nolint\n",
    "pe22 <- 106.03 # Calculated from CHIRPS and USDA effective rainfall formula\n",
    "pe23 <- 131.99 # Calculated from CHIRPS and USDA effective rainfall formula\n",
    "etp22 <- 620.62\n",
    "etp23 <- 608.92\n",
    "wp22 <- rast(\"E:/PhD/Thesis/Irrigation Performance/Result/Season Data/WP22.tif\")\n",
    "wp23 <- rast(\"E:/PhD/Thesis/Irrigation Performance/Result/Season Data/WP23.tif\")\n"
   ]
  },
  {
   "cell_type": "code",
   "execution_count": null,
   "metadata": {
    "vscode": {
     "languageId": "r"
    }
   },
   "outputs": [],
   "source": [
    "# Plot the fields\n",
    "plot(fields, col = \"lightblue\", border = \"black\", lwd = 0.5)\n"
   ]
  },
  {
   "cell_type": "code",
   "execution_count": null,
   "metadata": {
    "vscode": {
     "languageId": "r"
    }
   },
   "outputs": [],
   "source": [
    "# print the number of Fields studied\n",
    "nrow(fields)\n",
    "\n",
    "# Statistics of Fields\n",
    "summary(fields$Area_ha)\n"
   ]
  },
  {
   "attachments": {},
   "cell_type": "markdown",
   "metadata": {},
   "source": [
    "| Canal                     | Depth (m) | Width (m) | Area (m²) | Velocity (m/s) | Discharge (m³/s) | Discharge (m³) |\n",
    "| ------------------------- | --------- | --------- | --------- | -------------- | ---------------- | -------------- |\n",
    "| Main canal (Initial)      | 0.37      | 0.45      | 0.435     | 0.256          | 0.1215           | 1364688        |\n",
    "| Main canal (Final)        | 0.32      | 0.41      | 0.398     | 0.188          | 0.0748           | 840154         |\n",
    "| Secondary canal (initial) | 0.216     | 0.28      | 0.061     | 0.173          | 0.0105825552     | 825552         |\n",
    "| Secondary canal (Final)   | 0.186     | 0.25      | 0.041     | 0.158          | 0.0064503194     | 503194         |\n"
   ]
  },
  {
   "attachments": {},
   "cell_type": "markdown",
   "metadata": {},
   "source": [
    "# Performance Indicators\n"
   ]
  },
  {
   "cell_type": "markdown",
   "metadata": {},
   "source": [
    "## Equity\n",
    "\n",
    "Equity is defined as the coefficients of variation (CV) of seasonal ETa in the area of interest.\n",
    "\n",
    "-   It measures the evenness of the water supply in an irrigation scheme.\n",
    "-   Note: CV of 0 to 10% is good, 10 to 25% is fair and CV > 25% is poor uniformity (Bastiaanssen et al., 1996)\n",
    "    <br/>\n"
   ]
  },
  {
   "cell_type": "markdown",
   "metadata": {},
   "source": [
    "### For Whole Scheme\n"
   ]
  },
  {
   "cell_type": "code",
   "execution_count": null,
   "metadata": {
    "vscode": {
     "languageId": "r"
    }
   },
   "outputs": [],
   "source": [
    "# Calculate the Max ETa for all fields (21/22)\n",
    "et22_max <- zonal(et22, boundary, \"max\")\n",
    "print(paste(\"Max ETa for 2021-22\", et22_max))\n",
    "\n",
    "# Calculate the mean ETa for all fields (21/22)\n",
    "et22_mean <- zonal(et22, boundary, \"mean\")\n",
    "print(paste(\"Mean ETa for 2021-22\", et22_mean))\n",
    "\n",
    "# Calculate the min ETa for all fields (21/22)\n",
    "et22_min <- zonal(et22, boundary, \"min\")\n",
    "print(paste(\"Min ETa for 2021-22\", et22_min))\n",
    "\n",
    "# Calculate the sd ETa for all fields (21/22)\n",
    "et22_sd <- zonal(et22, boundary, \"sd\")\n",
    "print(paste(\"SD ETa for 2021-22\", et22_sd))\n",
    "\n",
    "# Calculate the CV ETa for all fields (21/22)\n",
    "et22_cv <- (et22_sd / et22_mean) * 100\n",
    "print(paste(\"CV ETa for 2021-22\", et22_cv))\n"
   ]
  },
  {
   "cell_type": "code",
   "execution_count": null,
   "metadata": {
    "vscode": {
     "languageId": "r"
    }
   },
   "outputs": [],
   "source": [
    "# Calculate the max ETa for all fields (22/23)\n",
    "et23_max <- zonal(et23, boundary, \"max\")\n",
    "print(paste(\"Mean ETa for 2022-23\", et23_max))\n",
    "\n",
    "# Calculate the mean ETa for all fields (22/23)\n",
    "et23_mean <- zonal(et23, boundary, \"mean\")\n",
    "print(paste(\"Mean ETa for 2022-23\", et23_mean))\n",
    "\n",
    "# Calculate the min ETa for all fields (22/23)\n",
    "et23_min <- zonal(et23, boundary, \"min\")\n",
    "print(paste(\"Min ETa for 2022-23\", et23_min))\n",
    "\n",
    "# Calculate the sd ETa for all fields (22/23)\n",
    "et23_sd <- zonal(et23, boundary, \"sd\")\n",
    "print(paste(\"SD ETa for 2022-23\", et23_sd))\n",
    "\n",
    "# Calculate the CV ETa for all fields (22/23)\n",
    "et23_cv <- (et23_sd / et23_mean) * 100\n",
    "print(paste(\"CV ETa for 2022-23\", et23_cv))\n"
   ]
  },
  {
   "cell_type": "markdown",
   "metadata": {},
   "source": [
    "### For Fields\n"
   ]
  },
  {
   "cell_type": "code",
   "execution_count": null,
   "metadata": {
    "vscode": {
     "languageId": "r"
    }
   },
   "outputs": [],
   "source": [
    "# Calculate the mean ETa for all fields (21/22)\n",
    "et22_mean <- zonal(et22, fields, \"mean\")\n",
    "# print(paste(\"Mean ETa for 2021-22\", et22_mean)) # nolint\n",
    "\n",
    "# Calculate the sd ETa for all fields (21/22)\n",
    "et22_sd <- zonal(et22, fields, \"sd\")\n",
    "# print(paste(\"SD ETa for 2021-22\", et22_sd)) # nolint\n",
    "\n",
    "# Calculate the CV ETa for all fields (21/22)\n",
    "et22_cv <- (et22_sd / et22_mean) * 100\n",
    "# print(paste(\"CV ETa for 2021-22\", et22_cv)) # nolint\n",
    "\n",
    "# Calculate the mean ETa for all fields (22/23)\n",
    "et23_mean <- zonal(et23, fields, \"mean\")\n",
    "# print(paste(\"Mean ETa for 2022-23\", et23_mean)) # nolint\n",
    "\n",
    "# Calculate the sd ETa for all fields (22/23)\n",
    "et23_sd <- zonal(et23, fields, \"sd\")\n",
    "# print(paste(\"SD ETa for 2022-23\", et23_sd)) # nolint\n",
    "\n",
    "# Calculate the CV ETa for all fields (22/23)\n",
    "et23_cv <- (et23_sd / et23_mean) * 100\n",
    "#print(paste(\"CV ETa for 2022-23\", et23_cv)) # nolint\n"
   ]
  },
  {
   "cell_type": "code",
   "execution_count": null,
   "metadata": {
    "vscode": {
     "languageId": "r"
    }
   },
   "outputs": [],
   "source": [
    "# Statsistics\n",
    "summary(et22_mean)\n",
    "summary(et23_mean)\n"
   ]
  },
  {
   "cell_type": "code",
   "execution_count": null,
   "metadata": {
    "vscode": {
     "languageId": "r"
    }
   },
   "outputs": [],
   "source": [
    "summary(et22_sd)\n",
    "summary(et23_sd)\n"
   ]
  },
  {
   "cell_type": "code",
   "execution_count": null,
   "metadata": {
    "vscode": {
     "languageId": "r"
    }
   },
   "outputs": [],
   "source": [
    "summary(et22_cv)\n",
    "summary(et23_cv)\n"
   ]
  },
  {
   "cell_type": "markdown",
   "metadata": {},
   "source": [
    "## Adequacy\n",
    "\n",
    "The adequacy indicator is used to measure the sufficiency of water delivery to a known command area, as well as the reduction in ETa\n",
    "\n",
    "Adequacy can be calculated as the ratio of actual evapotranspiration (ETa) to potential evapotranspiration (ETp).\n",
    "\n",
    "-   It measures the adequacy of the water supply in an irrigation scheme.\n",
    "-   Note: Adequacy of 0.8 to 1.0 is good, 0.6 to 0.8 is fair, and Adequacy < 0.6 is poor adequacy (Bastiaanssen et al., 1996)\n",
    "\n",
    "$$Adequacy = \\frac{ET_a}{ET_p}$$\n",
    "\n",
    "It can also be calculated as relative water supply:\n",
    "$$RWS=\\frac{V_c+P_g}{ET_p}$$\n",
    "\n",
    "Deplted Fraction:\n",
    "$$DF=\\frac{ET_a}{P_g + V_c}$$\n"
   ]
  },
  {
   "cell_type": "code",
   "execution_count": null,
   "metadata": {
    "vscode": {
     "languageId": "r"
    }
   },
   "outputs": [],
   "source": [
    "# Adequacy 2021-22\n",
    "ret22 <- (et22 / etp22)\n",
    "\n",
    "# Plot it\n",
    "plot(ret22)\n",
    "\n",
    "# Save it as geotiff\n",
    "#writeRaster(ret22, \"E:/PhD/Thesis/Irrigation Performance/Result/Season Data/Adequacy22.tif\", overwrite = TRUE) # nolint\n"
   ]
  },
  {
   "cell_type": "code",
   "execution_count": null,
   "metadata": {
    "vscode": {
     "languageId": "r"
    }
   },
   "outputs": [],
   "source": [
    "# Adequacy 2022-23\n",
    "ret23 <- (et23 / etp23)\n",
    "\n",
    "# Plot it\n",
    "plot(ret23)\n",
    "\n",
    "# Save it as geotiff\n",
    "#writeRaster(ret23, \"E:/PhD/Thesis/Irrigation Performance/Result/Season Data/Adequacy23.tif\", overwrite = TRUE) # nolint\n"
   ]
  },
  {
   "cell_type": "code",
   "execution_count": null,
   "metadata": {
    "vscode": {
     "languageId": "r"
    }
   },
   "outputs": [],
   "source": [
    "# Stack the rasters together\n",
    "rasters <- c(ret22, ret23)\n",
    "\n",
    "names(rasters) <- c(\"2021/22\", \"2022/23\")\n",
    "\n",
    "# Plot\n",
    "p <- ggplot() +\n",
    "  geom_spatraster(data = rasters) +\n",
    "  facet_wrap(~lyr, ncol = 2) +\n",
    "  scale_fill_whitebox_c(\n",
    "    palette = \"deep\", na.value = \"white\",\n",
    "    n.breaks = 8,\n",
    "    guide = guide_legend(reverse = TRUE, keyheight = unit(1.75, \"cm\"))\n",
    "  ) + # nolint\n",
    "  labs(fill = \"RET\") +\n",
    "  theme_bw() +\n",
    "  theme(\n",
    "    axis.text.y = element_text(angle = 90, vjust = 0.5, size = 16),\n",
    "    axis.text.x = element_text(size = 16),\n",
    "    strip.text = element_text(size = 16),\n",
    "    panel.grid = element_blank(),\n",
    "    text = element_text(size = 16)\n",
    "  ) +\n",
    "  scale_x_continuous(labels = function(x) format(x, trim = TRUE, scientific = FALSE), breaks = c(37.37, 37.39, 37.41)) + # nolint\n",
    "  scale_y_continuous(labels = function(y) format(y, trim = TRUE, scientific = FALSE), breaks = c(10.368, 10.383, 10.398)) # nolint\n",
    "p\n",
    "\n",
    "# Save the plot as a JPEG with A4 landscape size and 900 DPI\n",
    "#ggsave(\"Adequacy_Plot.jpg\", plot = p, width = 14, height = 6, units = \"in\", dpi = 900) # nolint\n"
   ]
  },
  {
   "cell_type": "code",
   "execution_count": null,
   "metadata": {
    "vscode": {
     "languageId": "r"
    }
   },
   "outputs": [],
   "source": [
    "# Zonal on Adequacy\n",
    "ret22_mean <- zonal(ret22, fields, \"mean\")\n",
    "print(paste(\"Mean Adequacy for 2021-22\", ret22_mean))\n",
    "\n",
    "ret23_mean <- zonal(ret23, fields, \"mean\")\n",
    "print(paste(\"Mean Adequacy for 2022-23\", ret23_mean))\n"
   ]
  },
  {
   "cell_type": "code",
   "execution_count": null,
   "metadata": {
    "vscode": {
     "languageId": "r"
    }
   },
   "outputs": [],
   "source": [
    "# Statistics\n",
    "summary(ret22_mean)\n",
    "summary(ret23_mean)\n"
   ]
  },
  {
   "cell_type": "markdown",
   "metadata": {},
   "source": [
    "## Productivity\n"
   ]
  },
  {
   "cell_type": "markdown",
   "metadata": {},
   "source": [
    "### Crop Water Productivity (CWP)\n",
    "\n",
    "It's can be defined as the ratio of biomass production to the amount of water used (ET). Saying it differently, it is the amount of biomass produced per unit of water evaporated.\n",
    "\n",
    "$$\n",
    "\\text{CWP} = \\text{Biomass Water Productivity} \\times \\text{Harvest Index}\n",
    "$$\n",
    "\n",
    "-   Harvest index of wheat (Kekeba variety at Debre Elias) is 0.3008 (Sewunet et al., 2021)\n"
   ]
  },
  {
   "cell_type": "code",
   "execution_count": null,
   "metadata": {
    "vscode": {
     "languageId": "r"
    }
   },
   "outputs": [],
   "source": [
    "# Calculate the mean Biomass WP for all fields (21/22)\n",
    "cwp22 <- wp22 * 0.3008\n",
    "cwp22_mean <- zonal(cwp22, fields, \"mean\")\n",
    "\n",
    "# Print the result\n",
    "print(paste(\"2021-22 WP\", cwp22_mean))\n",
    "\n",
    "# Calculate the mean Biomass WP for all fields (22/23)\n",
    "cwp23 <- wp23 * 0.3008\n",
    "cwp23_mean <- zonal(cwp23, fields, \"mean\")\n",
    "\n",
    "# Print the result\n",
    "print(paste(\"2022-23 WP\", cwp23_mean))\n"
   ]
  },
  {
   "cell_type": "code",
   "execution_count": null,
   "metadata": {
    "vscode": {
     "languageId": "r"
    }
   },
   "outputs": [],
   "source": [
    "# Statistics\n",
    "summary(cwp22_mean)\n",
    "summary(cwp23_mean)\n"
   ]
  },
  {
   "cell_type": "markdown",
   "metadata": {},
   "source": [
    "### Land Prodctivity\n"
   ]
  },
  {
   "cell_type": "code",
   "execution_count": null,
   "metadata": {
    "vscode": {
     "languageId": "r"
    }
   },
   "outputs": [],
   "source": [
    "production <- read.csv(\"E:/PhD/Thesis/Irrigation Performance/Analysis/Farmers Production.csv\") # nolint\n",
    "head(production)\n",
    "str(production)"
   ]
  },
  {
   "cell_type": "code",
   "execution_count": null,
   "metadata": {
    "vscode": {
     "languageId": "r"
    }
   },
   "outputs": [],
   "source": [
    "sort(production$Production_2014, decreasing = FALSE)\n",
    "sort(production$Production_2015, decreasing = FALSE)"
   ]
  },
  {
   "cell_type": "code",
   "execution_count": null,
   "metadata": {
    "vscode": {
     "languageId": "r"
    }
   },
   "outputs": [],
   "source": [
    "summary(production)\n"
   ]
  }
 ],
 "metadata": {
  "citation-manager": {
   "items": {
    "zotero": {
     "12028432/88UCGBRK": {
      "DOI": "10.1016/j.agwat.2009.01.010",
      "URL": "https://linkinghub.elsevier.com/retrieve/pii/S0378377409000262",
      "accessed": {
       "date-parts": [
        [
         2023,
         12,
         24
        ]
       ]
      },
      "author": [
       {
        "family": "Karatas",
        "given": "Bekir S."
       },
       {
        "family": "Akkuzu",
        "given": "Erhan"
       },
       {
        "family": "Unal",
        "given": "Halil B."
       },
       {
        "family": "Asik",
        "given": "Serafettin"
       },
       {
        "family": "Avci",
        "given": "Musa"
       }
      ],
      "container-title": "Agricultural Water Management",
      "id": "12028432/88UCGBRK",
      "issue": "6",
      "issued": {
       "date-parts": [
        [
         "2009"
        ]
       ]
      },
      "journalAbbreviation": "Agricultural Water Management",
      "language": "en",
      "page": "982-990",
      "system_id": "zotero|12028432/88UCGBRK",
      "title": "Using satellite remote sensing to assess irrigation performance in Water User Associations in the Lower Gediz Basin, Turkey",
      "type": "article-journal",
      "volume": "96"
     },
     "12028432/9QBIFUHZ": {
      "DOI": "10.3390/rs11060705",
      "URL": "https://www.mdpi.com/2072-4292/11/6/705",
      "abstract": "Remote sensing techniques have been shown, in several studies, to be an extremely effective tool for assessing the performance of irrigated areas at various scales and diverse climatic regions across the world. Open access, ready-made, global ET products were utilized in this first-ever-countrywide irrigation performance assessment study. The study aimed at identifying ‘bright spots’, the highest performing sugarcane growers, and ‘hot spots’, or low performing sugarcane growers. Four remote sensing-derived irrigation performance indicators were applied to over 302 sugarcane growers; equity, adequacy, reliability and crop water productivity. The growers were segmented according to: (i) land holding size or grower scale (ii) management regime, (iii) location of the irrigation schemes and (iv) irrigation method. Five growing seasons, from June 2005 to October 2009, were investigated. The results show while the equity of water distribution is high across all management regimes and locations, adequacy and reliability of water needs improvement in several locations. Given the fact that, in general, water supply was not constrained during the study period, the observed issues with adequacy and reliability of irrigation in some of the schemes were mostly due to poor scheme and farm level water management practices. Sugarcane crop water productivity showed the highest variation among all the indicators, with Estate managed schemes having the highest CWP at 1.57 kg/m3 and the individual growers recording the lowest CWP at 1.14 kg/m3, nearly 30% less. Similarly center pivot systems showed to have the highest CWP at 1.63 kg/m3, which was 30% higher than the CWP in furrow systems. This study showcases the applicability of publicly available global remote sensing products for assessing performance of the irrigated crops at the local level in several aspects.",
      "accessed": {
       "date-parts": [
        [
         2023,
         2,
         17
        ]
       ]
      },
      "author": [
       {
        "family": "Karimi",
        "given": "Poolad"
       },
       {
        "family": "Bongani",
        "given": "Bhembe"
       },
       {
        "family": "Blatchford",
        "given": "Megan"
       },
       {
        "family": "de Fraiture",
        "given": "Charlotte"
       }
      ],
      "container-title": "Remote Sensing",
      "id": "12028432/9QBIFUHZ",
      "issue": "6",
      "issued": {
       "date-parts": [
        [
         2019,
         3,
         23
        ]
       ]
      },
      "journalAbbreviation": "Remote Sensing",
      "language": "en",
      "page": "705",
      "shortTitle": "Global Satellite-Based ET Products for the Local Level Irrigation Management",
      "system_id": "zotero|12028432/9QBIFUHZ",
      "title": "Global Satellite-Based ET Products for the Local Level Irrigation Management: An Application of Irrigation Performance Assessment in the Sugarbelt of Swaziland",
      "type": "article-journal",
      "volume": "11"
     },
     "12028432/KW9EFC6I": {
      "DOI": "10.1007/s41101-023-00222-y",
      "URL": "https://link.springer.com/10.1007/s41101-023-00222-y",
      "accessed": {
       "date-parts": [
        [
         2023,
         11,
         30
        ]
       ]
      },
      "author": [
       {
        "family": "Bashe",
        "given": "Tsigemariam"
       },
       {
        "family": "Alamirew",
        "given": "Tena"
       },
       {
        "family": "Dejen",
        "given": "Zeleke Agide"
       }
      ],
      "container-title": "Water Conservation Science and Engineering",
      "id": "12028432/KW9EFC6I",
      "issue": "1",
      "issued": {
       "date-parts": [
        [
         "2023"
        ]
       ]
      },
      "journalAbbreviation": "Water Conserv Sci Eng",
      "language": "en",
      "page": "45",
      "system_id": "zotero|12028432/KW9EFC6I",
      "title": "Evaluating Performance of Community-based Irrigation Schemes Using Remote-sensing Technologies to Enhance Sustainable Irrigation Water Management",
      "type": "article-journal",
      "volume": "8"
     },
     "12028432/PN66USTB": {
      "DOI": "10.5194/hess-26-2759-2022",
      "URL": "https://hess.copernicus.org/articles/26/2759/2022/",
      "abstract": "Abstract. The growing competition for finite land and water resources and the need to feed an ever-growing population require new techniques to monitor the performance of irrigation schemes and improve land and water productivity. Datasets from FAO's portal to monitor Water Productivity through Open access Remotely sensed derived data (WaPOR) are increasingly applied as a cost-effective means to support irrigation performance assessment and identify possible pathways for improvement. This study presents a framework that applies WaPOR data to assess irrigation performance indicators, including uniformity, equity, adequacy, and land and water productivity differentiated by irrigation method (furrow, sprinkler, and centre pivot) at the Xinavane sugarcane estate, Mozambique. The WaPOR data on water, land, and climate are in near-real time and spatially distributed, with the finest spatial resolution in the area of 100 m. The WaPOR data were first validated agronomically by examining the biomass response to water, and then the data were used to systematically analyse seasonal indicators for the period 2015 to 2018 on ∼8000 ha. The WaPOR-based yield estimates were found to be comparable to the estate-measured yields with ±20 % difference, a root mean square error of 19±2.5 t ha−1 and a mean absolute error of 15±1.6 t ha−1. A climate normalization factor that enables the spatial and temporal comparison of performance indicators are applied. The assessment highlights that in Xinavane no single irrigation method performs the best across all performance indicators. Centre pivot compared to sprinkler and furrow irrigation shows higher adequacy, equity, and land productivity but lower water productivity. The three irrigation methods have excellent uniformity (∼94 %) in the four seasons and acceptable adequacy for most periods of the season except in 2016, when a drought was observed. While this study is done for sugarcane in one irrigation scheme, the approach can be broadened to compare other crops across fields or irrigation schemes across Africa with diverse management units in the different agroclimatic zones within FAO WaPOR coverage. We conclude that the framework is useful for assessing irrigation performance using the WaPOR dataset.",
      "accessed": {
       "date-parts": [
        [
         2022,
         6,
         1
        ]
       ]
      },
      "author": [
       {
        "family": "Chukalla",
        "given": "Abebe D."
       },
       {
        "family": "Mul",
        "given": "Marloes L."
       },
       {
        "family": "van der Zaag",
        "given": "Pieter"
       },
       {
        "family": "van Halsema",
        "given": "Gerardo"
       },
       {
        "family": "Mubaya",
        "given": "Evaristo"
       },
       {
        "family": "Muchanga",
        "given": "Esperança"
       },
       {
        "family": "den Besten",
        "given": "Nadja"
       },
       {
        "family": "Karimi",
        "given": "Poolad"
       }
      ],
      "container-title": "Hydrology and Earth System Sciences",
      "id": "12028432/PN66USTB",
      "issue": "10",
      "issued": {
       "date-parts": [
        [
         2022,
         5,
         25
        ]
       ]
      },
      "journalAbbreviation": "Hydrol. Earth Syst. Sci.",
      "language": "en",
      "page": "2759-2778",
      "shortTitle": "A framework for irrigation performance assessment using WaPOR data",
      "system_id": "zotero|12028432/PN66USTB",
      "title": "A framework for irrigation performance assessment using WaPOR data: the case of a sugarcane estate in Mozambique",
      "type": "article-journal",
      "volume": "26"
     },
     "12028432/QX6S99F9": {
      "DOI": "10.1023/a:1006355315251",
      "abstract": "The earlier generation of irrigation performanceindicators was based on canal flow data. Commonly,they quantify performance in a command area downstreamof a discharge measurement device. Remote sensingdeterminants, such as actual evapo-transpiration, soilwater content and crop growth reflect the overallwater utilization at a range of scales, up to fieldlevel. Crop evapo-transpiration includes wateroriginating from irrigation supply, water fromprecipitation, groundwater and water withdrawn fromthe unsaturated zone. Hence, this is a refinement inspatial scale as compared to the classicallycollected flow measurements, and describes moreoverdepletion from all water resources. If thesepossibilities are well implemented, we expect that anew generation of irrigation performance indicatorscan be quantified in a cost-effective manner.Especially, because satellite measurements pave a wayto standardize data collection between differentirrigation schemes and among different countries atcosts which are currently decreasing. These challengescan only turn into a success if irrigation managersare involved in pilot projects and demonstrationstudies exploring satellite data.",
      "author": [
       {
        "family": "Bastiaanssen",
        "given": "Wim G.M."
       },
       {
        "family": "Bos",
        "given": "Marinus G."
       }
      ],
      "container-title": "Irrigation and Drainage Systems",
      "id": "12028432/QX6S99F9",
      "issued": {
       "date-parts": [
        [
         1999
        ]
       ]
      },
      "journalAbbreviation": "Irrigation and Drainage Systems",
      "system_id": "zotero|12028432/QX6S99F9",
      "title": "Irrigation Performance Indicators Based on Remotely Sensed Data: a Review of Literature",
      "type": "article-journal"
     }
    }
   }
  },
  "kernelspec": {
   "display_name": "R",
   "language": "R",
   "name": "ir"
  },
  "language_info": {
   "codemirror_mode": "r",
   "file_extension": ".r",
   "mimetype": "text/x-r-source",
   "name": "R",
   "pygments_lexer": "r",
   "version": "4.4.0"
  },
  "toc": {
   "base_numbering": 1,
   "nav_menu": {},
   "number_sections": true,
   "sideBar": true,
   "skip_h1_title": false,
   "title_cell": "Table of Contents",
   "title_sidebar": "Contents",
   "toc_cell": true,
   "toc_position": {
    "height": "calc(100% - 180px)",
    "left": "10px",
    "top": "150px",
    "width": "165px"
   },
   "toc_section_display": true,
   "toc_window_display": true
  },
  "vscode": {
   "interpreter": {
    "hash": "916dbcbb3f70747c44a77c7bcd40155683ae19c65e1c03b4aa3499c5328201f1"
   }
  }
 },
 "nbformat": 4,
 "nbformat_minor": 4
}
