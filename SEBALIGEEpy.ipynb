{
 "cells": [
  {
   "cell_type": "markdown",
   "metadata": {
    "id": "x2sFlbjFqpZe"
   },
   "source": [
    "# Import Libraries and Geometry\n"
   ]
  },
  {
   "cell_type": "code",
   "execution_count": 343,
   "metadata": {
    "ExecuteTime": {
     "start_time": "2023-04-20T02:58:11.446Z"
    },
    "colab": {
     "base_uri": "https://localhost:8080/",
     "height": 17
    },
    "executionInfo": {
     "elapsed": 3781,
     "status": "ok",
     "timestamp": 1699091379907,
     "user": {
      "displayName": "Yilkal Gebeyehu Mekonnen",
      "userId": "06729841319259100277"
     },
     "user_tz": -180
    },
    "id": "ZOtTwX9EqpaF",
    "notebookRunGroups": {
     "groupValue": "1"
    },
    "outputId": "2e97c9b9-ffca-4546-d738-01d41421ad98",
    "scrolled": true,
    "tags": []
   },
   "outputs": [
    {
     "data": {
      "text/html": [
       "\n",
       "            <style>\n",
       "                .geemap-dark {\n",
       "                    --jp-widgets-color: white;\n",
       "                    --jp-widgets-label-color: white;\n",
       "                    --jp-ui-font-color1: white;\n",
       "                    --jp-layout-color2: #454545;\n",
       "                    background-color: #383838;\n",
       "                }\n",
       "                    \n",
       "                .geemap-dark .jupyter-button {\n",
       "                    --jp-layout-color3: #383838;\n",
       "                }\n",
       "                \n",
       "                .geemap-colab {\n",
       "                    background-color: var(--colab-primary-surface-color, white);\n",
       "                }\n",
       "                    \n",
       "                .geemap-colab .jupyter-button {\n",
       "                    --jp-layout-color3: var(--colab-primary-surface-color, white);\n",
       "                }\n",
       "            </style>\n",
       "            "
      ],
      "text/plain": [
       "<IPython.core.display.HTML object>"
      ]
     },
     "metadata": {},
     "output_type": "display_data"
    }
   ],
   "source": [
    "# import libraries\n",
    "import ee, geemap, datetime, calendar, math\n",
    "from calendar import monthrange"
   ]
  },
  {
   "cell_type": "code",
   "execution_count": 344,
   "metadata": {
    "ExecuteTime": {
     "start_time": "2023-04-20T02:58:13.801Z"
    },
    "colab": {
     "base_uri": "https://localhost:8080/",
     "height": 17
    },
    "editable": true,
    "executionInfo": {
     "elapsed": 3780,
     "status": "ok",
     "timestamp": 1699091379916,
     "user": {
      "displayName": "Yilkal Gebeyehu Mekonnen",
      "userId": "06729841319259100277"
     },
     "user_tz": -180
    },
    "id": "nOJs2s5mqpaO",
    "notebookRunGroups": {
     "groupValue": "1"
    },
    "outputId": "a8272b14-471f-42a1-aa88-58af926788c9",
    "tags": []
   },
   "outputs": [
    {
     "data": {
      "text/html": [
       "\n",
       "            <style>\n",
       "                .geemap-dark {\n",
       "                    --jp-widgets-color: white;\n",
       "                    --jp-widgets-label-color: white;\n",
       "                    --jp-ui-font-color1: white;\n",
       "                    --jp-layout-color2: #454545;\n",
       "                    background-color: #383838;\n",
       "                }\n",
       "                    \n",
       "                .geemap-dark .jupyter-button {\n",
       "                    --jp-layout-color3: #383838;\n",
       "                }\n",
       "                \n",
       "                .geemap-colab {\n",
       "                    background-color: var(--colab-primary-surface-color, white);\n",
       "                }\n",
       "                    \n",
       "                .geemap-colab .jupyter-button {\n",
       "                    --jp-layout-color3: var(--colab-primary-surface-color, white);\n",
       "                }\n",
       "            </style>\n",
       "            "
      ],
      "text/plain": [
       "<IPython.core.display.HTML object>"
      ]
     },
     "metadata": {},
     "output_type": "display_data"
    }
   ],
   "source": [
    "# Intialize GEEand Create Interactive map\n",
    "Map = geemap.Map(center=(10.443317, 37.8865), zoom=11)"
   ]
  },
  {
   "cell_type": "code",
   "execution_count": 345,
   "metadata": {
    "ExecuteTime": {
     "end_time": "2023-04-19T13:17:27.382055Z",
     "start_time": "2023-04-19T13:17:27.370533Z"
    },
    "colab": {
     "base_uri": "https://localhost:8080/",
     "height": 17
    },
    "executionInfo": {
     "elapsed": 3728,
     "status": "ok",
     "timestamp": 1699091379916,
     "user": {
      "displayName": "Yilkal Gebeyehu Mekonnen",
      "userId": "06729841319259100277"
     },
     "user_tz": -180
    },
    "id": "Kds_GuTwqpaU",
    "notebookRunGroups": {
     "groupValue": "1"
    },
    "outputId": "e478ecf4-4c0c-4d8a-c2e4-b5650fd16441",
    "tags": []
   },
   "outputs": [
    {
     "data": {
      "text/html": [
       "\n",
       "            <style>\n",
       "                .geemap-dark {\n",
       "                    --jp-widgets-color: white;\n",
       "                    --jp-widgets-label-color: white;\n",
       "                    --jp-ui-font-color1: white;\n",
       "                    --jp-layout-color2: #454545;\n",
       "                    background-color: #383838;\n",
       "                }\n",
       "                    \n",
       "                .geemap-dark .jupyter-button {\n",
       "                    --jp-layout-color3: #383838;\n",
       "                }\n",
       "                \n",
       "                .geemap-colab {\n",
       "                    background-color: var(--colab-primary-surface-color, white);\n",
       "                }\n",
       "                    \n",
       "                .geemap-colab .jupyter-button {\n",
       "                    --jp-layout-color3: var(--colab-primary-surface-color, white);\n",
       "                }\n",
       "            </style>\n",
       "            "
      ],
      "text/plain": [
       "<IPython.core.display.HTML object>"
      ]
     },
     "metadata": {},
     "output_type": "display_data"
    }
   ],
   "source": [
    "# Import Jedeb watershed\n",
    "jedeb = ee.FeatureCollection(\"projects/ee-yilkalgebeyehu/assets/Jedeb_Watershed\")\n",
    "\n",
    "# Import Shimburit Scheme\n",
    "shimburit = ee.FeatureCollection(\"projects/ee-yilkalgebeyehu/assets/Shimburit_Boundary\")"
   ]
  },
  {
   "cell_type": "markdown",
   "metadata": {
    "id": "dVObfdFJqpaa"
   },
   "source": [
    "# Set Dates\n"
   ]
  },
  {
   "cell_type": "code",
   "execution_count": 346,
   "metadata": {
    "ExecuteTime": {
     "end_time": "2023-04-19T13:17:27.494140Z",
     "start_time": "2023-04-19T13:17:27.382055Z"
    },
    "colab": {
     "base_uri": "https://localhost:8080/",
     "height": 17
    },
    "executionInfo": {
     "elapsed": 3726,
     "status": "ok",
     "timestamp": 1699091379917,
     "user": {
      "displayName": "Yilkal Gebeyehu Mekonnen",
      "userId": "06729841319259100277"
     },
     "user_tz": -180
    },
    "id": "bb7FCYfvqpad",
    "notebookRunGroups": {
     "groupValue": "1"
    },
    "outputId": "80b5829e-acea-44c5-edb7-9083c5b77a4c"
   },
   "outputs": [
    {
     "data": {
      "text/html": [
       "\n",
       "            <style>\n",
       "                .geemap-dark {\n",
       "                    --jp-widgets-color: white;\n",
       "                    --jp-widgets-label-color: white;\n",
       "                    --jp-ui-font-color1: white;\n",
       "                    --jp-layout-color2: #454545;\n",
       "                    background-color: #383838;\n",
       "                }\n",
       "                    \n",
       "                .geemap-dark .jupyter-button {\n",
       "                    --jp-layout-color3: #383838;\n",
       "                }\n",
       "                \n",
       "                .geemap-colab {\n",
       "                    background-color: var(--colab-primary-surface-color, white);\n",
       "                }\n",
       "                    \n",
       "                .geemap-colab .jupyter-button {\n",
       "                    --jp-layout-color3: var(--colab-primary-surface-color, white);\n",
       "                }\n",
       "            </style>\n",
       "            "
      ],
      "text/plain": [
       "<IPython.core.display.HTML object>"
      ]
     },
     "metadata": {},
     "output_type": "display_data"
    }
   ],
   "source": [
    "# Set month and year number\n",
    "m = 12\n",
    "year = 2022\n",
    "\n",
    "# Set date for satellite images\n",
    "start = datetime.datetime(year, m, 1)\n",
    "end = datetime.datetime(year, m, calendar.monthrange(year, m)[1])\n",
    "LC_year_1 = datetime.datetime(year, 1, 1)\n",
    "LC_year_2 = datetime.datetime(year, 12, 31)"
   ]
  },
  {
   "cell_type": "markdown",
   "metadata": {
    "id": "NPCTbd26qpal"
   },
   "source": [
    "# Constants\n"
   ]
  },
  {
   "cell_type": "code",
   "execution_count": 347,
   "metadata": {
    "colab": {
     "base_uri": "https://localhost:8080/",
     "height": 17
    },
    "executionInfo": {
     "elapsed": 3715,
     "status": "ok",
     "timestamp": 1699091379917,
     "user": {
      "displayName": "Yilkal Gebeyehu Mekonnen",
      "userId": "06729841319259100277"
     },
     "user_tz": -180
    },
    "id": "6d27Wz1aqpaq",
    "notebookRunGroups": {
     "groupValue": "1"
    },
    "outputId": "33b61763-a860-4148-90c6-706ab74abcbd"
   },
   "outputs": [
    {
     "data": {
      "text/html": [
       "\n",
       "            <style>\n",
       "                .geemap-dark {\n",
       "                    --jp-widgets-color: white;\n",
       "                    --jp-widgets-label-color: white;\n",
       "                    --jp-ui-font-color1: white;\n",
       "                    --jp-layout-color2: #454545;\n",
       "                    background-color: #383838;\n",
       "                }\n",
       "                    \n",
       "                .geemap-dark .jupyter-button {\n",
       "                    --jp-layout-color3: #383838;\n",
       "                }\n",
       "                \n",
       "                .geemap-colab {\n",
       "                    background-color: var(--colab-primary-surface-color, white);\n",
       "                }\n",
       "                    \n",
       "                .geemap-colab .jupyter-button {\n",
       "                    --jp-layout-color3: var(--colab-primary-surface-color, white);\n",
       "                }\n",
       "            </style>\n",
       "            "
      ],
      "text/plain": [
       "<IPython.core.display.HTML object>"
      ]
     },
     "metadata": {},
     "output_type": "display_data"
    }
   ],
   "source": [
    "# Specific heat at constant pressure of air, kJ/kg K\n",
    "c_p = 1.013\n",
    "# Ratio molecular weight of water vapor/dry air\n",
    "epsilon = 0.622\n",
    "# Solar constant, kJ/m^2/h\n",
    "a_s = 0.355\n",
    "b_s = 0.68\n",
    "I_s = 4921\n",
    "# Albedo constant\n",
    "a_e = 0.56\n",
    "b_e = 0.08\n",
    "a_l = 0.2\n",
    "c2 = 90\n",
    "# Conversion between Kelvin and Celsius\n",
    "c3 = 273\n",
    "# Stefan-Boltzmann constant, kJ/(m^2 K^4 d)\n",
    "sigma = 0.0000049\n",
    "coef = 0.33\n",
    "# Other constants\n",
    "cali = 0.2\n",
    "LUE_max = 2.5\n",
    "Kt = 23\n",
    "Th = 35\n",
    "Tl = 0\n",
    "# Von karman constant\n",
    "von = 0.41\n",
    "# Albedo for Et0; refer to https://www.fao.org/3/x0490e/x0490e07.htm\n",
    "Albedo = 0.25"
   ]
  },
  {
   "cell_type": "markdown",
   "metadata": {
    "id": "MyXB-ZtRqpas"
   },
   "source": [
    "# Import Climatic Data\n"
   ]
  },
  {
   "cell_type": "code",
   "execution_count": 348,
   "metadata": {
    "ExecuteTime": {
     "end_time": "2023-04-19T13:17:27.715459Z",
     "start_time": "2023-04-19T13:17:27.593809Z"
    },
    "colab": {
     "base_uri": "https://localhost:8080/",
     "height": 17
    },
    "executionInfo": {
     "elapsed": 3714,
     "status": "ok",
     "timestamp": 1699091379920,
     "user": {
      "displayName": "Yilkal Gebeyehu Mekonnen",
      "userId": "06729841319259100277"
     },
     "user_tz": -180
    },
    "id": "BauATdIeqpau",
    "notebookRunGroups": {
     "groupValue": "1"
    },
    "outputId": "137f8f8c-bb76-4f8f-8b53-ec0fc352731d"
   },
   "outputs": [
    {
     "data": {
      "text/html": [
       "\n",
       "            <style>\n",
       "                .geemap-dark {\n",
       "                    --jp-widgets-color: white;\n",
       "                    --jp-widgets-label-color: white;\n",
       "                    --jp-ui-font-color1: white;\n",
       "                    --jp-layout-color2: #454545;\n",
       "                    background-color: #383838;\n",
       "                }\n",
       "                    \n",
       "                .geemap-dark .jupyter-button {\n",
       "                    --jp-layout-color3: #383838;\n",
       "                }\n",
       "                \n",
       "                .geemap-colab {\n",
       "                    background-color: var(--colab-primary-surface-color, white);\n",
       "                }\n",
       "                    \n",
       "                .geemap-colab .jupyter-button {\n",
       "                    --jp-layout-color3: var(--colab-primary-surface-color, white);\n",
       "                }\n",
       "            </style>\n",
       "            "
      ],
      "text/plain": [
       "<IPython.core.display.HTML object>"
      ]
     },
     "metadata": {},
     "output_type": "display_data"
    }
   ],
   "source": [
    "climatic = ee.ImageCollection(\"ECMWF/ERA5_LAND/MONTHLY_AGGR\")\\\n",
    "            .filter(ee.Filter.date(start, end))\n",
    "climaticbands = climatic.toBands()\n",
    "\n",
    "if m < 10:\n",
    "    system = str(year) + \"0\" + str(m)\n",
    "else:\n",
    "    system = str(year) + str(m)\n",
    "\n",
    "# Reduce Region\n",
    "dict_T = climaticbands.select(system + \"_\" + \"temperature_2m\").reduceRegion(**{\n",
    "        \"reducer\": ee.Reducer.mean(),\n",
    "        \"geometry\": jedeb.geometry(),\n",
    "        \"scale\": 10000,\n",
    "        \"maxPixels\": 1e9,\n",
    "    }\n",
    ")\n",
    "# The result is a Dictionary.  Print it.\n",
    "#print(dict_T.getInfo())\n",
    "\n",
    "# Change the Temperature to celcius.\n",
    "T_1 = dict_T.get(system + \"_\" + \"temperature_2m\")\n",
    "T = ee.Number(T_1).subtract(c3)\n",
    "#print(system, T.getInfo(), 'mean Temperature in C')\n",
    "\n",
    "# Reduce the region dewpoint temperature (Td)\n",
    "dict_TD = climaticbands.select(system + \"_\" + \"dewpoint_temperature_2m\").reduceRegion(**{\n",
    "        \"reducer\": ee.Reducer.mean(),\n",
    "        \"geometry\": jedeb.geometry(),\n",
    "        \"scale\": 10000,\n",
    "        \"maxPixels\": 1e9,\n",
    "    }\n",
    ")\n",
    "# The result is a Dictionary.  Print it.\n",
    "# print(dict_TD.getInfo())\n",
    "\n",
    "TD_1 = dict_TD.get(system + \"_\" + \"dewpoint_temperature_2m\")\n",
    "TD = ee.Number(TD_1).subtract(c3)\n",
    "#print(system, TD.getInfo(), 'mean Dewpoint in C')\n",
    "\n",
    "# Reduce the region Wind_speed (Both eastward and northward )\n",
    "dict_Wu = climaticbands.select(system + \"_\" + \"u_component_of_wind_10m\").reduceRegion(**{\n",
    "        \"reducer\": ee.Reducer.mean(),\n",
    "        \"geometry\": jedeb.geometry(),\n",
    "        \"scale\": 10000,\n",
    "        \"maxPixels\": 1e9,\n",
    "    }\n",
    ")\n",
    "\n",
    "# The result is a Dictionary.  Print it.\n",
    "Wu = dict_Wu.get(system + \"_\" + \"u_component_of_wind_10m\")\n",
    "\n",
    "# Reduce the region Wind_speed (Both eastward and northward )\n",
    "dict_Wv = climaticbands.select(system + \"_\" + \"v_component_of_wind_10m\").reduceRegion(**{\n",
    "        \"reducer\": ee.Reducer.mean(),\n",
    "        \"geometry\": jedeb.geometry(),\n",
    "        \"scale\": 10000,\n",
    "        \"maxPixels\": 1e9,\n",
    "    }\n",
    ")\n",
    "# The result is a Dictionary.  Print it.\n",
    "Wv = dict_Wv.get(system + \"_\" + \"v_component_of_wind_10m\")\n",
    "\n",
    "Wind_speed = ee.Number(Wu).multiply(ee.Number(Wu)).add(ee.Number(Wv).multiply(ee.Number(Wv))).sqrt()\n",
    "#print(Wind_speed.getInfo(), 'mean Wind Speed in m/s')"
   ]
  },
  {
   "cell_type": "code",
   "execution_count": 349,
   "metadata": {
    "ExecuteTime": {
     "end_time": "2023-04-19T13:17:27.819292Z",
     "start_time": "2023-04-19T13:17:27.715459Z"
    },
    "colab": {
     "base_uri": "https://localhost:8080/",
     "height": 17
    },
    "executionInfo": {
     "elapsed": 3702,
     "status": "ok",
     "timestamp": 1699091379920,
     "user": {
      "displayName": "Yilkal Gebeyehu Mekonnen",
      "userId": "06729841319259100277"
     },
     "user_tz": -180
    },
    "id": "IEc6mzLEqpay",
    "notebookRunGroups": {
     "groupValue": "1"
    },
    "outputId": "d33a320d-acae-42e7-a7bc-aaff48a8e290"
   },
   "outputs": [
    {
     "data": {
      "text/html": [
       "\n",
       "            <style>\n",
       "                .geemap-dark {\n",
       "                    --jp-widgets-color: white;\n",
       "                    --jp-widgets-label-color: white;\n",
       "                    --jp-ui-font-color1: white;\n",
       "                    --jp-layout-color2: #454545;\n",
       "                    background-color: #383838;\n",
       "                }\n",
       "                    \n",
       "                .geemap-dark .jupyter-button {\n",
       "                    --jp-layout-color3: #383838;\n",
       "                }\n",
       "                \n",
       "                .geemap-colab {\n",
       "                    background-color: var(--colab-primary-surface-color, white);\n",
       "                }\n",
       "                    \n",
       "                .geemap-colab .jupyter-button {\n",
       "                    --jp-layout-color3: var(--colab-primary-surface-color, white);\n",
       "                }\n",
       "            </style>\n",
       "            "
      ],
      "text/plain": [
       "<IPython.core.display.HTML object>"
      ]
     },
     "metadata": {},
     "output_type": "display_data"
    }
   ],
   "source": [
    "# Import the NASA SRTM ground elevation image.\n",
    "elevation = ee.Image(\"CGIAR/SRTM90_V4\").select(\"elevation\")\n",
    "slope = ee.Terrain.slope(elevation)\n",
    "\n",
    "# Reduce the region. The region parameter is the Feature geometry.\n",
    "dict_DEM = elevation.select(\"elevation\").reduceRegion(**{\n",
    "        \"reducer\": ee.Reducer.mean(),\n",
    "        \"geometry\": jedeb.geometry(),\n",
    "        \"scale\": 30,\n",
    "        \"maxPixels\": 1e9,\n",
    "    }\n",
    ")\n",
    "\n",
    "# The result is a Dictionary.  Print it.\n",
    "alt = dict_DEM.get(\"elevation\")\n",
    "# print(alt.getInfo())\n",
    "\n",
    "# get coordinates image\n",
    "latlon = ee.Image.pixelLonLat()\n",
    "\n",
    "# Reduce the region. The region parameter is the Feature geometry.\n",
    "dict_lat = latlon.select(\"latitude\").reduceRegion(**{\n",
    "        \"reducer\": ee.Reducer.mean(),\n",
    "        \"geometry\": jedeb.geometry(),\n",
    "        \"scale\": 1000,\n",
    "        \"maxPixels\": 1e9,\n",
    "    }\n",
    ")\n",
    "\n",
    "# The result is a Dictionary.  Print it.\n",
    "lat = dict_lat.get(\"latitude\")\n",
    "# print(dict_lat.getInfo())\n",
    "\n",
    "# Reduce the region. The region parameter is the Feature geometry.\n",
    "dict_lon = latlon.select(\"longitude\").reduceRegion(**{\n",
    "        \"reducer\": ee.Reducer.mean(),\n",
    "        \"geometry\": jedeb.geometry(),\n",
    "        \"scale\": 1000,\n",
    "        \"maxPixels\": 1e9,\n",
    "    }\n",
    ")\n",
    "\n",
    "# The result is a Dictionary.  Print it.\n",
    "long = dict_lon.get(\"longitude\")\n",
    "# print(dict_lon.getInfo())"
   ]
  },
  {
   "cell_type": "code",
   "execution_count": 350,
   "metadata": {
    "ExecuteTime": {
     "end_time": "2023-04-19T13:17:27.955670Z",
     "start_time": "2023-04-19T13:17:27.819292Z"
    },
    "colab": {
     "base_uri": "https://localhost:8080/",
     "height": 17
    },
    "executionInfo": {
     "elapsed": 3700,
     "status": "ok",
     "timestamp": 1699091379923,
     "user": {
      "displayName": "Yilkal Gebeyehu Mekonnen",
      "userId": "06729841319259100277"
     },
     "user_tz": -180
    },
    "id": "OJ4WiXVMqpa1",
    "notebookRunGroups": {
     "groupValue": "1"
    },
    "outputId": "b70f6a96-32fa-4f16-ae9b-052be0919d44"
   },
   "outputs": [
    {
     "data": {
      "text/html": [
       "\n",
       "            <style>\n",
       "                .geemap-dark {\n",
       "                    --jp-widgets-color: white;\n",
       "                    --jp-widgets-label-color: white;\n",
       "                    --jp-ui-font-color1: white;\n",
       "                    --jp-layout-color2: #454545;\n",
       "                    background-color: #383838;\n",
       "                }\n",
       "                    \n",
       "                .geemap-dark .jupyter-button {\n",
       "                    --jp-layout-color3: #383838;\n",
       "                }\n",
       "                \n",
       "                .geemap-colab {\n",
       "                    background-color: var(--colab-primary-surface-color, white);\n",
       "                }\n",
       "                    \n",
       "                .geemap-colab .jupyter-button {\n",
       "                    --jp-layout-color3: var(--colab-primary-surface-color, white);\n",
       "                }\n",
       "            </style>\n",
       "            "
      ],
      "text/plain": [
       "<IPython.core.display.HTML object>"
      ]
     },
     "metadata": {},
     "output_type": "display_data"
    }
   ],
   "source": [
    "# Map a function over MODIS\n",
    "def getQABits(image, start, end, newName):\n",
    "    # Compute the bits we need to extract.\n",
    "    pattern = 0\n",
    "    for i in range(start, end, 1):\n",
    "        pattern += math.pow(2, i)\n",
    "\n",
    "    return image.select([0], [newName]).bitwiseAnd(pattern).rightShift(start)\n",
    "\n",
    "\n",
    "def clear(image):\n",
    "    img = image.select(\"state_1km\")\n",
    "    return getQABits(img, 0, 1, \"Clouds\").expression(\"b(0) == 0 || b(0) == 3\")\n",
    "\n",
    "\n",
    "def get_cloudcover(year, month, geometry):\n",
    "    geometry = ee.Geometry(geometry)\n",
    "\n",
    "    # Load morning (Terra) MODIS data.\n",
    "    morning = (\n",
    "        ee.ImageCollection(\"MODIS/061/MOD09GA\")\n",
    "        .filterDate(start, end)\n",
    "        .filterBounds(jedeb)\n",
    "    )\n",
    "    clear_days = morning.map(clear)\n",
    "    cloudcover = clear_days.reduce(ee.Reducer.mean()).rename(\"thres\")\n",
    "    return cloudcover\n",
    "\n",
    "cloudcover = get_cloudcover(year, m, jedeb)\n",
    "# Map.addLayer(cloudcover,{min: 0, max: 100, palette: ['black','yellow']},'CLEAR DAYS %')\n",
    "\n",
    "# Reduce the region. The region parameter is the Feature geometry.\n",
    "dict_cloud = cloudcover.select(\"thres\").reduceRegion(**{\n",
    "        \"reducer\": ee.Reducer.mean(),\n",
    "        \"geometry\": jedeb.geometry(),\n",
    "        \"scale\": 500,\n",
    "        \"maxPixels\": 1e9,\n",
    "    }\n",
    ")\n",
    "\n",
    "# The result is a Dictionary.  Print it.\n",
    "sunduration_1 = dict_cloud.get(\"thres\")"
   ]
  },
  {
   "cell_type": "code",
   "execution_count": 351,
   "metadata": {
    "ExecuteTime": {
     "end_time": "2023-04-19T13:17:30.860230Z",
     "start_time": "2023-04-19T13:17:27.955670Z"
    },
    "colab": {
     "base_uri": "https://localhost:8080/",
     "height": 52
    },
    "executionInfo": {
     "elapsed": 3690,
     "status": "ok",
     "timestamp": 1699091379925,
     "user": {
      "displayName": "Yilkal Gebeyehu Mekonnen",
      "userId": "06729841319259100277"
     },
     "user_tz": -180
    },
    "id": "nwtRCxKEqpa9",
    "notebookRunGroups": {
     "groupValue": "1"
    },
    "outputId": "eece690c-f95d-43b3-982c-717dfd576bba"
   },
   "outputs": [
    {
     "data": {
      "text/html": [
       "\n",
       "            <style>\n",
       "                .geemap-dark {\n",
       "                    --jp-widgets-color: white;\n",
       "                    --jp-widgets-label-color: white;\n",
       "                    --jp-ui-font-color1: white;\n",
       "                    --jp-layout-color2: #454545;\n",
       "                    background-color: #383838;\n",
       "                }\n",
       "                    \n",
       "                .geemap-dark .jupyter-button {\n",
       "                    --jp-layout-color3: #383838;\n",
       "                }\n",
       "                \n",
       "                .geemap-colab {\n",
       "                    background-color: var(--colab-primary-surface-color, white);\n",
       "                }\n",
       "                    \n",
       "                .geemap-colab .jupyter-button {\n",
       "                    --jp-layout-color3: var(--colab-primary-surface-color, white);\n",
       "                }\n",
       "            </style>\n",
       "            "
      ],
      "text/plain": [
       "<IPython.core.display.HTML object>"
      ]
     },
     "metadata": {},
     "output_type": "display_data"
    },
    {
     "name": "stdout",
     "output_type": "stream",
     "text": [
      "0.4036289362878691 Sun Duration\n",
      "202212 Monthly Reference Evapotranspiration (mm) 104.20168368076348\n"
     ]
    }
   ],
   "source": [
    "# Specific heat (kJ/kg) for a given temperature (C)\n",
    "templamda = ee.Number(2501).subtract((ee.Number(2.361)).multiply(T))\n",
    "\n",
    "# Standard pressure (hPa) for a given elevation (m)\n",
    "temppressure_1 = ee.Number(alt).multiply(0.00002256)\n",
    "temppressure_2 = ee.Number(1).subtract(temppressure_1)\n",
    "temppressure_3 = temppressure_2.pow(5.256)\n",
    "temppressure = temppressure_3.multiply(1013)\n",
    "\n",
    "# Air density (kg/m^3) at a given air pressure (hPa) and temperature (oC)\n",
    "tempdensity_1 = temppressure.multiply(0.3486)\n",
    "tempdensity_2 = ee.Number(T).add(273)\n",
    "tempdensity = tempdensity_1.divide(tempdensity_2)\n",
    "\n",
    "# Psychrometric constant (hPa/C) for a given pressure (hPa) and Specific heat (kJ/kg)\n",
    "tempgamma_1 = ee.Number(c_p).divide(ee.Number(epsilon))\n",
    "tempgamma_2 = ee.Number(temppressure).divide(ee.Number(templamda))\n",
    "tempgamma = ee.Number(tempgamma_1).multiply(ee.Number(tempgamma_2))\n",
    "\n",
    "# Saturation vapor pressure (hPa) for a given temperature (C)\n",
    "tempe_s_1 = ee.Number(T).add(237.3)\n",
    "tempe_s_2 = ee.Number(T).multiply(17.27)\n",
    "tempe_s_3 = tempe_s_2.divide(tempe_s_1)\n",
    "tempe_s_4 = tempe_s_3.exp()\n",
    "tempe_s = tempe_s_4.multiply(6.11)\n",
    "\n",
    "# Actual vapor pressure (hPa) for a given temperature (C)\n",
    "tempe_1 = ee.Number(TD).add(237.3)\n",
    "tempe_2 = ee.Number(TD).multiply(17.27)\n",
    "tempe_3 = tempe_2.divide(tempe_s_1)\n",
    "tempe_4 = tempe_3.exp()\n",
    "tempe = tempe_4.multiply(6.11)\n",
    "\n",
    "# Slope of the saturation vapor pressure curve (hPa/C) for a given temperature (C)\n",
    "tempdelta_1 = tempe_s_1.pow(2)\n",
    "tempdelta = tempe_s.divide(tempdelta_1).multiply(4098)\n",
    "\n",
    "# Astronomical quantities\n",
    "if m == 1:\n",
    "    j = 17\n",
    "elif m == 2:\n",
    "    j = 46\n",
    "elif m == 3:\n",
    "    j = 75\n",
    "elif m == 4:\n",
    "    j = 105\n",
    "elif m == 5:\n",
    "    j = 135\n",
    "elif m == 6:\n",
    "    j = 162\n",
    "elif m == 7:\n",
    "    j = 198\n",
    "elif m == 8:\n",
    "    j = 228\n",
    "elif m == 9:\n",
    "    j = 258\n",
    "elif m == 10:\n",
    "    j = 289\n",
    "elif m == 11:\n",
    "    j = 319\n",
    "elif m == 12:\n",
    "    j = 345\n",
    "\n",
    "# Solar declination (rad) for a given day\n",
    "tempdeclination = -0.4093 * math.cos (2 * 3.1415 * j / 365 + 0.16)\n",
    "\n",
    "# Solar declination (degree) for a given day\n",
    "tempdeclinationd = ee.Number(tempdeclination).multiply(180).divide(3.1415)\n",
    "\n",
    "# Lat in radian\n",
    "lat_rad = ee.Number(lat).multiply(3.1415).divide(180)\n",
    "\n",
    "# Sun Duration\n",
    "sunduration_2 = ee.Number(2).divide(ee.Number(15))\n",
    "sunduration_3 = ee.Number(-1).multiply(ee.Number(tempdeclination).tan()).multiply(ee.Number(lat_rad).tan())\n",
    "sunduration_4 = ee.Number(sunduration_3).acos()\n",
    "sunduration_5 = ee.Number(sunduration_2).multiply(ee.Number(sunduration_4))\\\n",
    "                      .multiply(180).divide(3.1415)\n",
    "sunduration = ee.Number(sunduration_5).multiply(ee.Number(sunduration_1))\\\n",
    "                    .divide(24)\n",
    "print(sunduration.getInfo(), 'Sun Duration')\n",
    "\n",
    "# Eccentricity for a given day\n",
    "tempeccentricity = 1 + 0.034 * math.cos (2 * 3.1415 * j / 365 - 0.05)\n",
    "\n",
    "# Sunset angle (rad) for a given day and lattitude\n",
    "tempphi_rad = ee.Number(lat).multiply(3.1415).divide(180)\n",
    "tempphi = ee.Number(-1).multiply(ee.Number(tempphi_rad).tan()).multiply(ee.Number(tempdeclination).tan())\n",
    "\n",
    "# For lattitude > 66.5 (or < - 66.5)\n",
    "tempo_s = tempphi\n",
    "o_s = ee.Number.expression(\n",
    "      \"(b1 > 1.161) ? 0\" +\n",
    "      \": b2\",\n",
    "      {\n",
    "      'b1': ee.Number(tempo_s).abs(),\n",
    "      'b2': ee.Number(tempo_s).acos(),\n",
    "})\n",
    "\n",
    "# Extraterrestial shortwave radiation (kJ/m^2/d) for a given day and lattitude\n",
    "S0temp = (24/3.1415) * I_s * tempeccentricity\n",
    "tempS_0 = ee.Number(S0temp).multiply(ee.Number(o_s).multiply(ee.Number(tempphi_rad).sin())\n",
    "  .multiply(ee.Number(tempdeclination).sin()).add(ee.Number(tempphi_rad).cos()\n",
    "  .multiply(ee.Number(tempdeclination).cos()).multiply(ee.Number(o_s).sin())))\n",
    "\n",
    "tempf_s = ee.Number(a_s).add((ee.Number(b_s)).multiply(ee.Number(1).subtract(ee.Number(sunduration))))\n",
    "\n",
    "# Shortwave radiation (kJ/m^2/d) for given albedo, fraction of sunshine duration\n",
    "tempS_n = (ee.Number(1).subtract(ee.Number(Albedo))).multiply(tempf_s).multiply(tempS_0)\n",
    "\n",
    "# Lo\n",
    "tempe_n_1 = tempe.sqrt()\n",
    "tempe_n_2 = tempe_n_1.multiply(b_e)\n",
    "tempe_n_3 = ee.Number(1).multiply(a_e)\n",
    "tempe_n = tempe_n_3.subtract(tempe_n_2)\n",
    "\n",
    "tempf_l = ee.Number(a_l).add(ee.Number(1).subtract(ee.Number(a_l))).multiply(ee.Number(1).subtract(ee.Number(sunduration)))\n",
    "\n",
    "# Longwave radiation (kJ/m^2/d) for given temperature (C), fraction of sunshine duration\n",
    "tempL_n_1 = tempe_n.multiply(tempf_l).multiply(sigma)\n",
    "tempL_n_2 = ee.Number(T).add(c3)\n",
    "tempL_n_3 = tempL_n_2.pow(4)\n",
    "tempL_n = tempL_n_1.multiply(tempL_n_3)\n",
    "\n",
    "# Mass transfer term for various cases of evaporation calculations\n",
    "tempgamma_rc_1 = ee.Number(1).add(ee.Number(coef).multiply(ee.Number(Wind_speed)))\n",
    "tempgamma_rc = tempgamma.multiply(tempgamma_rc_1)\n",
    "\n",
    "# Mass transfer term (kg/(hPa m^2 d)) of reference crop for given wind speed (m/s)\n",
    "tempF_rc_1 = ee.Number(T).add(c3)\n",
    "tempF_rc_2 = ee.Number(1).multiply(c2)\n",
    "tempF_rc = tempF_rc_2.divide(tempF_rc_1).multiply(ee.Number(Wind_speed))\n",
    "\n",
    "# Penman-Montieth method\n",
    "# A=Δ/(Δ+γ')\n",
    "tempA_1 = tempdelta.add(tempgamma_rc)\n",
    "tempA = tempdelta.divide(tempA_1)\n",
    "\n",
    "# Β= γ/(Δ+γ')\n",
    "tempB_1 = tempdelta.add(tempgamma_rc)\n",
    "tempB = tempgamma.divide(tempB_1)\n",
    "\n",
    "tempD = tempe_s.subtract(tempe)\n",
    "\n",
    "tempRna = ee.Number(tempS_n).subtract(tempL_n)\n",
    "\n",
    "temp_Epm_1 = tempA.multiply(tempRna)\n",
    "temp_Epm_2 = tempB.multiply(tempF_rc).multiply(tempD)\n",
    "temp_Epm = (temp_Epm_1.divide(templamda)).add(temp_Epm_2)\n",
    "\n",
    "A = temp_Epm\n",
    "\n",
    "if m == 1 or m == 3 or m == 5 or m == 7 or m == 8 or m == 10 or m == 12:\n",
    "    monthday = 31\n",
    "elif m == 2:\n",
    "    if (year % 4 == 0) and (not (year % 100 == 0) or (year % 400 == 0)):\n",
    "        monthday = 29\n",
    "    else:\n",
    "        monthday = 28\n",
    "else:\n",
    "    monthday = 30\n",
    "\n",
    "ET0 = ee.Number(monthday).multiply(A)\n",
    "print(system, \"Monthly Reference Evapotranspiration (mm)\", ET0.getInfo())"
   ]
  },
  {
   "cell_type": "markdown",
   "metadata": {
    "id": "v-tcXx2tqpbF"
   },
   "source": [
    "# ETa from Satellite\n"
   ]
  },
  {
   "cell_type": "code",
   "execution_count": 238,
   "metadata": {
    "ExecuteTime": {
     "end_time": "2023-04-19T13:17:30.885198Z",
     "start_time": "2023-04-19T13:17:30.860230Z"
    },
    "colab": {
     "base_uri": "https://localhost:8080/",
     "height": 17
    },
    "executionInfo": {
     "elapsed": 3684,
     "status": "ok",
     "timestamp": 1699091379925,
     "user": {
      "displayName": "Yilkal Gebeyehu Mekonnen",
      "userId": "06729841319259100277"
     },
     "user_tz": -180
    },
    "id": "fi26UdVSqpbH",
    "notebookRunGroups": {
     "groupValue": "1"
    },
    "outputId": "b498b1db-bd8a-4d49-91a9-c125c6deab01"
   },
   "outputs": [
    {
     "data": {
      "text/html": [
       "\n",
       "            <style>\n",
       "                .geemap-dark {\n",
       "                    --jp-widgets-color: white;\n",
       "                    --jp-widgets-label-color: white;\n",
       "                    --jp-ui-font-color1: white;\n",
       "                    --jp-layout-color2: #454545;\n",
       "                    background-color: #383838;\n",
       "                }\n",
       "                    \n",
       "                .geemap-dark .jupyter-button {\n",
       "                    --jp-layout-color3: #383838;\n",
       "                }\n",
       "                \n",
       "                .geemap-colab {\n",
       "                    background-color: var(--colab-primary-surface-color, white);\n",
       "                }\n",
       "                    \n",
       "                .geemap-colab .jupyter-button {\n",
       "                    --jp-layout-color3: var(--colab-primary-surface-color, white);\n",
       "                }\n",
       "            </style>\n",
       "            "
      ],
      "text/plain": [
       "<IPython.core.display.HTML object>"
      ]
     },
     "metadata": {},
     "output_type": "display_data"
    }
   ],
   "source": [
    "def maskL8sr(image):\n",
    "    # Bits 3 and 4 are cloud shadow and cloud, respectively.\n",
    "    cloudShadowBitMask = 1 << 3\n",
    "    cloudsBitMask = 1 << 4\n",
    "\n",
    "    # Get the pixel QA band.\n",
    "    qa = image.select(\"QA_PIXEL\")\n",
    "\n",
    "    # Both flags should be set to zero, indicating clear conditions.\n",
    "    mask = qa.bitwiseAnd(cloudShadowBitMask).eq(0).And(qa.bitwiseAnd(cloudsBitMask).eq(0))\n",
    "\n",
    "    return image.updateMask(mask)\n",
    "\n",
    "\n",
    "# Load Landsat 8 SR data\n",
    "L8 = ee.ImageCollection(\"LANDSAT/LC08/C02/T1_L2\").filterDate(start, end).map(maskL8sr)\n",
    "\n",
    "# Calculate  LST\n",
    "LSTm = L8.select(\"ST_B.*\").median().multiply(0.00341802).add(149.0)\n",
    "\n",
    "# Calculate median for Albedo\n",
    "opticalBands = L8.select(\"SR_.*\").median().multiply(0.0000275).add(-0.2)\n",
    "\n",
    "albedo_img = opticalBands.expression(\n",
    "    \"(0.130*b1 + 0.115*b2 + 0.143*b3 + 0.180*b4 + 0.281*b5 + 0.108*b6 + 0.042*b7)\",\n",
    "    {\n",
    "        \"b1\": opticalBands.select(\"SR_B1\"),\n",
    "        \"b2\": opticalBands.select(\"SR_B2\"),\n",
    "        \"b3\": opticalBands.select(\"SR_B3\"),\n",
    "        \"b4\": opticalBands.select(\"SR_B4\"),\n",
    "        \"b5\": opticalBands.select(\"SR_B5\"),\n",
    "        \"b6\": opticalBands.select(\"SR_B6\"),\n",
    "        \"b7\": opticalBands.select(\"SR_B7\"),\n",
    "    },\n",
    ")\n",
    "\n",
    "# Calculate median NDVI\n",
    "ndvi = opticalBands.normalizedDifference([\"SR_B5\", \"SR_B4\"])"
   ]
  },
  {
   "cell_type": "code",
   "execution_count": 239,
   "metadata": {
    "ExecuteTime": {
     "end_time": "2023-04-19T13:17:30.997249Z",
     "start_time": "2023-04-19T13:17:30.885198Z"
    },
    "colab": {
     "base_uri": "https://localhost:8080/",
     "height": 17
    },
    "executionInfo": {
     "elapsed": 3680,
     "status": "ok",
     "timestamp": 1699091379931,
     "user": {
      "displayName": "Yilkal Gebeyehu Mekonnen",
      "userId": "06729841319259100277"
     },
     "user_tz": -180
    },
    "id": "vS-crsavqpbO",
    "notebookRunGroups": {
     "groupValue": "1"
    },
    "outputId": "d43ebad0-d5c4-43cc-b653-dc237ff99948"
   },
   "outputs": [
    {
     "data": {
      "text/html": [
       "\n",
       "            <style>\n",
       "                .geemap-dark {\n",
       "                    --jp-widgets-color: white;\n",
       "                    --jp-widgets-label-color: white;\n",
       "                    --jp-ui-font-color1: white;\n",
       "                    --jp-layout-color2: #454545;\n",
       "                    background-color: #383838;\n",
       "                }\n",
       "                    \n",
       "                .geemap-dark .jupyter-button {\n",
       "                    --jp-layout-color3: #383838;\n",
       "                }\n",
       "                \n",
       "                .geemap-colab {\n",
       "                    background-color: var(--colab-primary-surface-color, white);\n",
       "                }\n",
       "                    \n",
       "                .geemap-colab .jupyter-button {\n",
       "                    --jp-layout-color3: var(--colab-primary-surface-color, white);\n",
       "                }\n",
       "            </style>\n",
       "            "
      ],
      "text/plain": [
       "<IPython.core.display.HTML object>"
      ]
     },
     "metadata": {},
     "output_type": "display_data"
    }
   ],
   "source": [
    "# Total radiation (kJ/m^2/d) for given albedo, fraction of sunshine duration\n",
    "rad_1 = albedo_img.multiply(-1)\n",
    "\n",
    "rad_2 = rad_1.add(1)\n",
    "\n",
    "tempS_na = rad_2.multiply(tempf_s).multiply(tempS_0)\n",
    "\n",
    "tempRna1 = tempS_na.subtract(tempL_n)\n",
    "\n",
    "# Total radiation (w/ha/month)\n",
    "rna = tempRna1.multiply(ee.Number(monthday)).divide(ee.Number(864))\n",
    "\n",
    "# Changing temperature with DEM\n",
    "tdem = elevation.subtract(ee.Number(alt)).multiply(0.0065).add(ee.Number(T))\n",
    "\n",
    "# Calculate G/Rn\n",
    "GRn_1 = tdem.divide(albedo_img).multiply(albedo_img.multiply(0.0038).add((albedo_img.multiply(albedo_img).multiply(0.0074))))\n",
    "GRn_2 = ndvi.multiply(ndvi.multiply(ndvi.multiply(ndvi.multiply(0.98))))\n",
    "GRn_3 = GRn_2.multiply(-1).add(1)\n",
    "GRn = GRn_1.multiply(GRn_3)\n",
    "\n",
    "# Calculate soil heat flux\n",
    "G = GRn.multiply(rna)\n",
    "\n",
    "# Calculate LAI\n",
    "LAI_1 = ndvi.multiply(ndvi.multiply(ndvi.multiply(9.519)))\n",
    "LAI_2 = ndvi.multiply(ndvi.multiply(0.104))\n",
    "LAI_3 = ndvi.multiply (1.236)\n",
    "LAI = LAI_1.add(LAI_2).add(LAI_3).subtract(0.257)\n",
    "\n",
    "# Calculate surface roughness\n",
    "zom = LAI.multiply(0.018)\n",
    "\n",
    "# Calculate corrected zom\n",
    "zom_1 = slope.subtract(5)\n",
    "zom_2 = zom_1.divide(20).add(1)\n",
    "zom_c = zom.multiply(zom_2)\n",
    "\n",
    "# Calculate friction velocity\n",
    "friction_velocity = ee.Number(von).multiply(ee.Number(Wind_speed)).divide(((ee.Number(2)).divide(ee.Number(0.0246))).log())\n",
    "\n",
    "# Calculate wind speed at 200 m\n",
    "wind_200_1 = ee.Number(200).divide(ee.Number(0.0246))\n",
    "wind_200_2 = ee.Number(wind_200_1).log()\n",
    "wind_200 = ee.Number(friction_velocity).multiply(wind_200_2).divide(ee.Number(von))\n",
    "\n",
    "# Correct wind speed at 200 m\n",
    "u200_1 = elevation.subtract(ee.Number(alt))\n",
    "u200_2 = u200_1.divide(1000).multiply(0.1).add(1)\n",
    "u200_c = u200_2.multiply(wind_200)\n",
    "\n",
    "# A raster image with a value of 1\n",
    "img_0 = ndvi.multiply(0)\n",
    "img_1 = img_0.add(1)\n",
    "\n",
    "# Calculate friction at 200 m\n",
    "Fri_1 = u200_c.multiply(ee.Number(von))\n",
    "twoh = img_1.multiply(200)\n",
    "Fri_2 = twoh.divide(0.0246)\n",
    "Fri_3 = Fri_2.log()\n",
    "Fri_200 = Fri_1.divide(Fri_3)\n",
    "\n",
    "# Calculate momemtum roughness\n",
    "rah_1 = Fri_200.multiply(ee.Number(von))\n",
    "rah_2 = img_1.multiply(2.995)\n",
    "rah = rah_2.divide(rah_1)"
   ]
  },
  {
   "cell_type": "code",
   "execution_count": 240,
   "metadata": {
    "ExecuteTime": {
     "end_time": "2023-04-19T13:17:31.105212Z",
     "start_time": "2023-04-19T13:17:30.997249Z"
    },
    "colab": {
     "base_uri": "https://localhost:8080/",
     "height": 17
    },
    "executionInfo": {
     "elapsed": 3681,
     "status": "ok",
     "timestamp": 1699091379935,
     "user": {
      "displayName": "Yilkal Gebeyehu Mekonnen",
      "userId": "06729841319259100277"
     },
     "user_tz": -180
    },
    "id": "OxQuiO9dqpbb",
    "notebookRunGroups": {
     "groupValue": "1"
    },
    "outputId": "663e00a9-b729-400a-b1a7-5a9a09a906c9"
   },
   "outputs": [
    {
     "data": {
      "text/html": [
       "\n",
       "            <style>\n",
       "                .geemap-dark {\n",
       "                    --jp-widgets-color: white;\n",
       "                    --jp-widgets-label-color: white;\n",
       "                    --jp-ui-font-color1: white;\n",
       "                    --jp-layout-color2: #454545;\n",
       "                    background-color: #383838;\n",
       "                }\n",
       "                    \n",
       "                .geemap-dark .jupyter-button {\n",
       "                    --jp-layout-color3: #383838;\n",
       "                }\n",
       "                \n",
       "                .geemap-colab {\n",
       "                    background-color: var(--colab-primary-surface-color, white);\n",
       "                }\n",
       "                    \n",
       "                .geemap-colab .jupyter-button {\n",
       "                    --jp-layout-color3: var(--colab-primary-surface-color, white);\n",
       "                }\n",
       "            </style>\n",
       "            "
      ],
      "text/plain": [
       "<IPython.core.display.HTML object>"
      ]
     },
     "metadata": {},
     "output_type": "display_data"
    }
   ],
   "source": [
    "# Find Agricultural Area (Created from Dynamic World land cover)\n",
    "landcover = geemap.dynamic_world(jedeb, LC_year_1, LC_year_2, clip=True,\n",
    "                                 return_type=\"class\")\n",
    "\n",
    "# Reterieve Cold pixels\n",
    "cropland = landcover.expression(\n",
    "    \"(b1 == 4||b1 == 2) ? 1\" + \": 0\",\n",
    "    {\n",
    "        \"b1\": landcover,\n",
    "    },\n",
    ")\n",
    "\n",
    "cropland_c = cropland.expression(\n",
    "    \"(b1 == 1 && b2 > 0.20 ) ? 1\" + \": 0\",\n",
    "    {\n",
    "        \"b1\": cropland.select(\"constant\"),\n",
    "        \"b2\": ndvi.select(\"nd\"),\n",
    "    },\n",
    ")\n",
    "\n",
    "dem_cold = LSTm.multiply(cropland_c)\n",
    "\n",
    "# Reduce Region\n",
    "dem_coldmeandict = dem_cold.reduceRegion(**{\n",
    "        \"reducer\": ee.Reducer.mean(),\n",
    "        \"geometry\": jedeb.geometry(),\n",
    "        \"scale\": 30,\n",
    "        \"maxPixels\": 1e9,\n",
    "    }\n",
    ")\n",
    "\n",
    "# The result is a Dictionary.  Print it.\n",
    "dem_coldmean = dem_coldmeandict.get(\"ST_B10\")\n",
    "\n",
    "dem_coldmean_img = img_1.multiply(dem_coldmean)\n",
    "\n",
    "dem_coldmeandict1 = dem_cold.reduceRegion(**{\n",
    "        \"reducer\": ee.Reducer.stdDev(),\n",
    "        \"geometry\": jedeb.geometry(),\n",
    "        \"scale\": 30,\n",
    "        \"maxPixels\": 1e9,\n",
    "    }\n",
    ")\n",
    "\n",
    "# The result is a Dictionary.  Print it.\n",
    "dem_coldstd = dem_coldmeandict1.get(\"ST_B10\")\n",
    "\n",
    "thre_cold = ee.Number(dem_coldmean).add(ee.Number(dem_coldstd).multiply(2))\n",
    "\n",
    "precold_1 = LSTm.expression(\n",
    "    \"(b1 < b2) ? 1\" + \": 0\",\n",
    "    {\n",
    "        \"b1\": LSTm.select(\"ST_B10\"),\n",
    "        \"b2\": thre_cold,\n",
    "    },\n",
    ")\n",
    "\n",
    "precold = precold_1.multiply(cropland_c)"
   ]
  },
  {
   "cell_type": "code",
   "execution_count": 241,
   "metadata": {
    "ExecuteTime": {
     "end_time": "2023-04-19T13:17:31.244311Z",
     "start_time": "2023-04-19T13:17:31.105212Z"
    },
    "colab": {
     "base_uri": "https://localhost:8080/",
     "height": 17
    },
    "executionInfo": {
     "elapsed": 4043,
     "status": "ok",
     "timestamp": 1699091380300,
     "user": {
      "displayName": "Yilkal Gebeyehu Mekonnen",
      "userId": "06729841319259100277"
     },
     "user_tz": -180
    },
    "id": "UgPQhmm_qpbf",
    "notebookRunGroups": {
     "groupValue": "1"
    },
    "outputId": "9e2b59a9-a5e3-4d13-c919-05a7b90b4187"
   },
   "outputs": [
    {
     "data": {
      "text/html": [
       "\n",
       "            <style>\n",
       "                .geemap-dark {\n",
       "                    --jp-widgets-color: white;\n",
       "                    --jp-widgets-label-color: white;\n",
       "                    --jp-ui-font-color1: white;\n",
       "                    --jp-layout-color2: #454545;\n",
       "                    background-color: #383838;\n",
       "                }\n",
       "                    \n",
       "                .geemap-dark .jupyter-button {\n",
       "                    --jp-layout-color3: #383838;\n",
       "                }\n",
       "                \n",
       "                .geemap-colab {\n",
       "                    background-color: var(--colab-primary-surface-color, white);\n",
       "                }\n",
       "                    \n",
       "                .geemap-colab .jupyter-button {\n",
       "                    --jp-layout-color3: var(--colab-primary-surface-color, white);\n",
       "                }\n",
       "            </style>\n",
       "            "
      ],
      "text/plain": [
       "<IPython.core.display.HTML object>"
      ]
     },
     "metadata": {},
     "output_type": "display_data"
    }
   ],
   "source": [
    "# Calculate ET0 from satellite\n",
    "# Specific heat (kJ/kg) for a given temperature (C)\n",
    "templamdaa_1 = tdem.multiply(2.361)\n",
    "templamdaa = img_1.multiply(2501).subtract(templamdaa_1)\n",
    "\n",
    "# Standard pressure (hPa) for a given elevation (m)\n",
    "temppressurea_1 = elevation.multiply(0.00002256)\n",
    "temppressurea_2 = img_1.subtract(temppressurea_1)\n",
    "temppressurea_3 = temppressurea_2.pow(5.256)\n",
    "temppressurea = temppressurea_3.multiply(1013)\n",
    "\n",
    "#Air density (kg/m^3) at a given air pressure (hPa) and temperature (C)\n",
    "tempdensitya_1 = temppressurea.multiply(0.3486)\n",
    "tempdensitya_2 = tdem.add(273)\n",
    "tempdensitya = tempdensitya_1.divide(tempdensitya_2)\n",
    "\n",
    "# Psychrometric constant (hPa/C) for a given pressure (hPa) and Specific heat (kJ/kg)\n",
    "tempgammaa_1 = temppressurea.multiply(ee.Number(c_p).divide(ee.Number(epsilon)))\n",
    "tempgammaa = tempgammaa_1.divide(templamdaa)\n",
    "\n",
    "# Saturation vapor pressure (hPa) for a given temperature (C)\n",
    "tempe_sa_1 = tdem.add(237.3)\n",
    "tempe_sa_2 = tdem.multiply(17.27)\n",
    "tempe_sa_3 = tempe_sa_2.divide(tempe_sa_1)\n",
    "tempe_sa_4 = tempe_sa_3.exp()\n",
    "tempe_sa = tempe_sa_4.multiply(6.11)\n",
    "\n",
    "# Slope of the saturation vapor pressure curve (hPa/C) for a given temperature (C)\n",
    "tempdeltaa_1 = tempe_sa_1.pow(2)\n",
    "tempdeltaa = tempe_sa.divide(tempdeltaa_1).multiply(4098)\n",
    "\n",
    "# Vapor pressure (hPa)\n",
    "tempea_1 = TD.add(237.3)\n",
    "tempea_2 = TD.multiply(17.27)\n",
    "tempea_3 = tempea_2.divide(tempea_1)\n",
    "tempea_4 = tempea_3.exp()\n",
    "tempea = tempea_4.multiply(6.11)\n",
    "\n",
    "# Lo\n",
    "tempe_na_1 = tempea.sqrt()\n",
    "tempe_na_2 = tempe_na_1.multiply(b_e)\n",
    "tempe_na_3 = img_1.multiply(a_e)\n",
    "tempe_na = tempe_na_3.subtract(tempe_na_2)\n",
    "\n",
    "# Longwave radiation (kJ/m^2/d) for given temperature (C), fraction of sunshine duration\n",
    "tempL_na_1 = tempe_na.multiply(tempf_l).multiply(sigma)\n",
    "tempL_na_2 = tdem.add(c3)\n",
    "tempL_na_3 = tempL_na_2.pow(4)\n",
    "tempL_na = tempL_na_1.multiply(tempL_na_3)\n",
    "\n",
    "# Mass transfer term for various cases of evaporation calculations\n",
    "tempgamma_rca_1 = ee.Number(1).add(ee.Number(coef).multiply(ee.Number(Wind_speed)))\n",
    "tempgamma_rca = tempgammaa.multiply(tempgamma_rca_1)\n",
    "\n",
    "# Mass transfer term (kg/(hPa m^2 d)) of reference crop for given wind speed (m/s)\n",
    "tempF_rca_1 = tdem.add(c3)\n",
    "tempF_rca_2 = img_1.multiply(c2)\n",
    "tempF_rca = tempF_rca_2.divide(tempF_rca_1).multiply(ee.Number(Wind_speed))\n",
    "\n",
    "# Penman-Montieth method\n",
    "# A=Δ/(Δ+γ')\n",
    "tempAa_1 = tempdeltaa.add(tempgamma_rca)\n",
    "tempAa = tempdeltaa.divide(tempAa_1)\n",
    "\n",
    "# Β= γ/(Δ+γ')\n",
    "tempBa_1 = tempdeltaa.add(tempgamma_rca)\n",
    "tempBa = tempgammaa.divide(tempBa_1)\n",
    "\n",
    "tempDa = tempe_sa.subtract(tempea)\n",
    "\n",
    "tempRnaa = tempS_na.subtract(tempL_na)\n",
    "\n",
    "temp_Epma_1 = tempAa.multiply(tempRnaa)\n",
    "temp_Epma_2 = tempBa.multiply(tempF_rca).multiply(tempDa)\n",
    "temp_Epma = (temp_Epma_1.divide(templamdaa)).add(temp_Epma_2)\n",
    "\n",
    "# Calculate ET0s\n",
    "ET0s = temp_Epma\n",
    "\n",
    "# Continue with cold pixels calculations\n",
    "rastercold_1 = rna.subtract(G)\n",
    "rastercold_2 = ET0s.multiply(1.05)\n",
    "rastercold = rastercold_1.subtract(rastercold_2).multiply(precold)\n",
    "\n",
    "# Reduce the region\n",
    "dem_coldmeandict2 = rastercold.reduceRegion(**{\n",
    "  \"reducer\": ee.Reducer.mean(),\n",
    "  \"geometry\": jedeb,\n",
    "  \"scale\": 30,\n",
    "  \"maxPixels\": 1e9\n",
    "})\n",
    "\n",
    "# The result is a Dictionary.  Print it.\n",
    "H_cold = dem_coldmeandict2.get('constant')\n",
    "\n",
    "raster_cold = rah.multiply(ee.Number(H_cold)).divide(tempdensitya.multiply(1004))\n",
    "\n",
    "dt_cold_img = raster_cold.multiply(precold)\n",
    "\n",
    "# Reduce the region\n",
    "dt_coldmeandict1 = dt_cold_img.reduceRegion(**{\n",
    "  \"reducer\": ee.Reducer.mean(),\n",
    "  \"geometry\": jedeb,\n",
    "  \"scale\": 30,\n",
    "  \"maxPixels\": 1e9\n",
    "})\n",
    "\n",
    "# The result is a Dictionary.  Print it.\n",
    "dt_cold = dt_coldmeandict1.get('nd')\n",
    "\n",
    "lst_dt_img_c = LSTm.multiply(precold)\n",
    "\n",
    "# Reduce the region\n",
    "dt_coldlst = lst_dt_img_c.reduceRegion(**{\n",
    "  \"reducer\": ee.Reducer.mean(),\n",
    "  \"geometry\": jedeb,\n",
    "  \"scale\": 30,\n",
    "  \"maxPixels\": 1e9\n",
    "})\n",
    "\n",
    "# The result is a Dictionary.  Print it.\n",
    "lst_dt_cold = dt_coldlst.get('ST_B10')"
   ]
  },
  {
   "cell_type": "code",
   "execution_count": 242,
   "metadata": {
    "ExecuteTime": {
     "end_time": "2023-04-19T13:17:31.350392Z",
     "start_time": "2023-04-19T13:17:31.244311Z"
    },
    "colab": {
     "base_uri": "https://localhost:8080/",
     "height": 17
    },
    "executionInfo": {
     "elapsed": 4042,
     "status": "ok",
     "timestamp": 1699091380303,
     "user": {
      "displayName": "Yilkal Gebeyehu Mekonnen",
      "userId": "06729841319259100277"
     },
     "user_tz": -180
    },
    "id": "tI42nvc0qpbj",
    "notebookRunGroups": {
     "groupValue": "1"
    },
    "outputId": "ac4538fa-364c-4957-c6cc-3b4d1253a88b"
   },
   "outputs": [
    {
     "data": {
      "text/html": [
       "\n",
       "            <style>\n",
       "                .geemap-dark {\n",
       "                    --jp-widgets-color: white;\n",
       "                    --jp-widgets-label-color: white;\n",
       "                    --jp-ui-font-color1: white;\n",
       "                    --jp-layout-color2: #454545;\n",
       "                    background-color: #383838;\n",
       "                }\n",
       "                    \n",
       "                .geemap-dark .jupyter-button {\n",
       "                    --jp-layout-color3: #383838;\n",
       "                }\n",
       "                \n",
       "                .geemap-colab {\n",
       "                    background-color: var(--colab-primary-surface-color, white);\n",
       "                }\n",
       "                    \n",
       "                .geemap-colab .jupyter-button {\n",
       "                    --jp-layout-color3: var(--colab-primary-surface-color, white);\n",
       "                }\n",
       "            </style>\n",
       "            "
      ],
      "text/plain": [
       "<IPython.core.display.HTML object>"
      ]
     },
     "metadata": {},
     "output_type": "display_data"
    }
   ],
   "source": [
    "# Retreive hot pixels\n",
    "cropland_h = cropland.expression(\n",
    "      \"(b1 < 0.2 && b2 == 1 ) ? 1\" +\n",
    "      \": 0\",\n",
    "      {\n",
    "      'b1': ndvi.select('nd') ,\n",
    "      'b2': cropland.select('constant'),\n",
    "})\n",
    "\n",
    "dem_hot = LSTm.multiply(cropland_h)\n",
    "\n",
    "# Reduce the region\n",
    "dem_hotmeandict = dem_hot.reduceRegion(**{\n",
    "  \"reducer\": ee.Reducer.mean(),\n",
    "  \"geometry\": jedeb,\n",
    "  \"scale\": 30,\n",
    "  \"maxPixels\": 1e9\n",
    "})\n",
    "\n",
    "# The result is a Dictionary.  Print it.\n",
    "dem_hotmean = dem_hotmeandict.get('ST_B10')\n",
    "\n",
    "# Reduce the region\n",
    "dem_hotmeandict1 = dem_hot.reduceRegion(**{\n",
    "  \"reducer\": ee.Reducer.stdDev(),\n",
    "  \"geometry\": jedeb,\n",
    "  \"scale\": 30,\n",
    "  \"maxPixels\": 1e9\n",
    "})\n",
    "\n",
    "# The result is a Dictionary.  Print it.\n",
    "dem_hotstd = dem_hotmeandict1.get('ST_B10')\n",
    "\n",
    "thre_hot = ee.Number(dem_hotmean).subtract(ee.Number(dem_hotstd))\n",
    "\n",
    "prehot_1 = LSTm.expression(\n",
    "      \"(b1 > b2) ? 1\" +\n",
    "      \": 0\",\n",
    "      {\n",
    "      'b1': LSTm.select('ST_B10') ,\n",
    "      'b2': thre_hot,\n",
    "})\n",
    "\n",
    "prehot = prehot_1.multiply(cropland_h)\n",
    "\n",
    "rasterhot_1 = rna.subtract(G)\n",
    "rasterhot = rastercold_1.multiply(prehot)\n",
    "\n",
    "# Reduce the region\n",
    "dem_hotmeandict2 = rasterhot.reduceRegion(**{\n",
    "  \"reducer\": ee.Reducer.mean(),\n",
    "  \"geometry\": jedeb,\n",
    "  \"scale\": 30,\n",
    "  \"maxPixels\": 1e9\n",
    "})\n",
    "\n",
    "# The result is a Dictionary.  Print it.\n",
    "H_hot = dem_hotmeandict2.get('constant')\n",
    "\n",
    "raster_hot = rah.multiply(ee.Number(H_hot)).divide(tempdensitya.multiply(1004))\n",
    "\n",
    "dt_hot_img = raster_hot.multiply(prehot)\n",
    "\n",
    "# Reduce the region\n",
    "dt_hotmeandict1 = dt_hot_img.reduceRegion(**{\n",
    "  \"reducer\": ee.Reducer.mean(),\n",
    "  \"geometry\": jedeb,\n",
    "  \"scale\": 30,\n",
    "  \"maxPixels\": 1e9\n",
    "})\n",
    "\n",
    "# The result is a Dictionary.  Print it.\n",
    "dt_hot = dt_hotmeandict1.get('nd')\n",
    "\n",
    "lst_dt_img_h = LSTm.multiply(prehot)\n",
    "\n",
    "# Reduce the region\n",
    "dt_hotlst = lst_dt_img_h.reduceRegion(**{\n",
    "  \"reducer\": ee.Reducer.mean(),\n",
    "  \"geometry\": jedeb,\n",
    "  \"scale\": 30,\n",
    "  \"maxPixels\": 1e9\n",
    "})\n",
    "\n",
    "# The result is a Dictionary.  Print it.\n",
    "lst_dt_hot = dt_hotlst.get('ST_B10')\n",
    "\n",
    "# Find a and b\n",
    "a_dt = ee.Number(dt_hot).subtract(ee.Number(dt_cold)).divide((ee.Number(lst_dt_hot).subtract(ee.Number(lst_dt_cold))))\n",
    "b_dt = ee.Number(dt_hot).subtract((ee.Number(a_dt).multiply(ee.Number(lst_dt_hot))))\n",
    "\n",
    "# Calculate dT\n",
    "dT = LSTm.multiply(a_dt).add(b_dt)\n",
    "\n",
    "# Calculate sensible heat flux\n",
    "H_1 = dT.multiply(tempdensity).multiply(1004).divide(rah)"
   ]
  },
  {
   "cell_type": "code",
   "execution_count": 243,
   "metadata": {
    "ExecuteTime": {
     "end_time": "2023-04-19T13:17:31.508326Z",
     "start_time": "2023-04-19T13:17:31.350392Z"
    },
    "colab": {
     "base_uri": "https://localhost:8080/",
     "height": 17
    },
    "executionInfo": {
     "elapsed": 50,
     "status": "ok",
     "timestamp": 1699091380304,
     "user": {
      "displayName": "Yilkal Gebeyehu Mekonnen",
      "userId": "06729841319259100277"
     },
     "user_tz": -180
    },
    "id": "oNKvogDoqpbm",
    "notebookRunGroups": {
     "groupValue": "1"
    },
    "outputId": "492936d1-63d4-400f-d072-2acd8a8536e3"
   },
   "outputs": [
    {
     "data": {
      "text/html": [
       "\n",
       "            <style>\n",
       "                .geemap-dark {\n",
       "                    --jp-widgets-color: white;\n",
       "                    --jp-widgets-label-color: white;\n",
       "                    --jp-ui-font-color1: white;\n",
       "                    --jp-layout-color2: #454545;\n",
       "                    background-color: #383838;\n",
       "                }\n",
       "                    \n",
       "                .geemap-dark .jupyter-button {\n",
       "                    --jp-layout-color3: #383838;\n",
       "                }\n",
       "                \n",
       "                .geemap-colab {\n",
       "                    background-color: var(--colab-primary-surface-color, white);\n",
       "                }\n",
       "                    \n",
       "                .geemap-colab .jupyter-button {\n",
       "                    --jp-layout-color3: var(--colab-primary-surface-color, white);\n",
       "                }\n",
       "            </style>\n",
       "            "
      ],
      "text/plain": [
       "<IPython.core.display.HTML object>"
      ]
     },
     "metadata": {},
     "output_type": "display_data"
    }
   ],
   "source": [
    "# Water pixels sensible heat\n",
    "water_qa = landcover.expression(\n",
    "    \"(b1 == 0) ? 1\" + \": 0\",\n",
    "    {\n",
    "        \"b1\": landcover,\n",
    "    },\n",
    ")\n",
    "\n",
    "waterH1 = H_1.multiply(water_qa)\n",
    "\n",
    "# Reduce the region\n",
    "dict_w1 = waterH1.reduceRegion(**{\n",
    "        \"reducer\": ee.Reducer.mean(),\n",
    "        \"geometry\": jedeb.geometry(),\n",
    "        \"scale\": 30,\n",
    "        \"maxPixels\": 1e9,\n",
    "    }\n",
    ")\n",
    "\n",
    "# The result is a Dictionary.  Print it.\n",
    "meanhw1 = dict_w1.get(\"ST_B10\")\n",
    "\n",
    "# Calculate Relative Humidity\n",
    "RH = tempe.divide(tempe_s)\n",
    "\n",
    "if RH.lt(0.4) and ee.Number(Wind_speed).gt(2):\n",
    "    kpan = 1.509433962\n",
    "if RH.lt(0.4) and ee.Number(Wind_speed).gt(2) and ee.Number(Wind_speed).lt(5):\n",
    "    kpan = 1.632653061\n",
    "if RH.lt(0.4) and ee.Number(Wind_speed).gt(5) and ee.Number(Wind_speed).lt(8):\n",
    "    kpan = 1.777777778\n",
    "if RH.lt(0.4) and ee.Number(Wind_speed).gt(8):\n",
    "    kpan = 2.105263158\n",
    "if RH.gt(0.4) and RH.lt(0.7) and ee.Number(Wind_speed).lt(2):\n",
    "    kpan = 1.31147541\n",
    "if RH.gt(0.4) and RH.lt(0.7) and ee.Number(Wind_speed).gt(2) and ee.Number(Wind_speed).lt(5):\n",
    "    kpan = 1.403508772\n",
    "if RH.gt(0.4) and RH.lt(0.7) and ee.Number(Wind_speed).gt(5) and ee.Number(Wind_speed).lt(8):\n",
    "    kpan = 1.632653061\n",
    "if RH.gt(0.4) and RH.lt(0.7) and ee.Number(Wind_speed).gt(8):\n",
    "    kpan = 1.818181818\n",
    "if RH.gt(0.7) and ee.Number(Wind_speed).lt(2):\n",
    "    kpan = 1.212121212\n",
    "if RH.gt(0.7) and ee.Number(Wind_speed).gt(2) and ee.Number(Wind_speed).lt(5):\n",
    "    kpan = 1.333333333\n",
    "if RH.gt(0.7) and ee.Number(Wind_speed).gt(5) and ee.Number(Wind_speed).lt(8):\n",
    "    kpan = 1.481481481\n",
    "if RH.gt(0.7) and ee.Number(Wind_speed).gt(8):\n",
    "    kpan = 1.666666667\n",
    "else:\n",
    "    kpan = 1.620253165\n",
    "\n",
    "waterH2_1 = ET0s.multiply(kpan).multiply(cali)\n",
    "waterH2 = rna.subtract(waterH2_1).multiply(water_qa)\n",
    "\n",
    "# Reduce the region\n",
    "dict_w2 = waterH2.reduceRegion(**{\n",
    "  \"reducer\": ee.Reducer.mean(),\n",
    "  \"geometry\": jedeb,\n",
    "  \"scale\": 30,\n",
    "  \"maxPixels\": 1e9\n",
    "})\n",
    "\n",
    "# The result is a Dictionary.  Print it.\n",
    "meanhw2 = dict_w2.get('constant')\n",
    "\n",
    "# Calculate surface roughness of grass\n",
    "rah_grass = ee.Number(208).divide(ee.Number(Wind_speed))\n",
    "\n",
    "# Reduce the region\n",
    "dict_dtw = LSTm.reduceRegion(**{\n",
    "  \"reducer\": ee.Reducer.stdDev(),\n",
    "  \"geometry\": jedeb,\n",
    "  \"scale\": 30,\n",
    "  \"maxPixels\": 1e9\n",
    "})\n",
    "\n",
    "# The result is a Dictionary.  Print it.\n",
    "meandtw_1 = dict_dtw.get('ST_B10')\n",
    "meandtw = ee.Number(meandtw_1).multiply(4)\n",
    "\n",
    "waterH3 = tempdensitya.multiply(1004).multiply(meandtw).divide(rah_grass)\n",
    "\n",
    "# Reduce the region\n",
    "dict_w3 = waterH3.reduceRegion(**{\n",
    "  \"reducer\": ee.Reducer.stdDev(),\n",
    "  \"geometry\": jedeb,\n",
    "  \"scale\": 30,\n",
    "  \"maxPixels\": 1e9\n",
    "})\n",
    "\n",
    "# The result is a Dictionary.  Print it.\n",
    "meanhw3 = dict_w3.get('nd')\n",
    "\n",
    "meanhw23 = ee.Number(meanhw2).max(ee.Number(meanhw3))\n",
    "\n",
    "meanhwnew = ee.Number(meanhw23).subtract(ee.Number(meanhw1))\n",
    "\n",
    "# Calculate new sensible heat\n",
    "H = H_1.add(ee.Number(meanhwnew))\n",
    "\n",
    "# Retreive water pixels latent heat\n",
    "water_ET0s = water_qa.multiply(ET0s)\n",
    "\n",
    "# Reduce the region\n",
    "dict_et0s = water_ET0s.reduceRegion(**{\n",
    "  \"reducer\": ee.Reducer.mean(),\n",
    "  \"geometry\": jedeb,\n",
    "  \"scale\": 30,\n",
    "  \"maxPixels\": 1e9\n",
    "})\n",
    "\n",
    "# The result is a Dictionary.  Print it.\n",
    "meanet0sw = dict_et0s.get('constant')\n",
    "\n",
    "# Calculate LET\n",
    "LET_1 = rna.subtract(G).subtract(H)\n",
    "\n",
    "water_LET = water_qa.multiply(LET_1)\n",
    "\n",
    "# Reduce the region\n",
    "dict_LET = water_LET.reduceRegion(**{\n",
    "  \"reducer\": ee.Reducer.mean(),\n",
    "  \"geometry\": jedeb,\n",
    "  \"scale\": 30,\n",
    "  \"maxPixels\": 1e9\n",
    "})\n",
    "\n",
    "# The result is a Dictionary.  Print it.\n",
    "meanLETw = dict_LET.get('constant')\n",
    "\n",
    "dw_LET = (ee.Number(meanet0sw).multiply(kpan).multiply(cali)).subtract(ee.Number(meanLETw))\n",
    "\n",
    "# Calculate LET\n",
    "LET = LET_1.expression(\n",
    "      \"(b1 + b2 < 0) ? 0.01\" +\n",
    "      \": b1 + b2\",\n",
    "      {\n",
    "      'b1': LET_1.select('constant') ,\n",
    "      'b2': dw_LET\n",
    "})\n",
    "\n",
    "# Calculate EF\n",
    "EF_1 = rna.subtract(G)\n",
    "EF = LET.divide(EF_1)\n",
    "\n",
    "# Saturation Vapor Pressure at the air temperature (kPa):\n",
    "esat_1 = tdem.multiply(17.27)\n",
    "esat_2 = tdem.add(237.3)\n",
    "esat_3 = esat_1.divide(esat_2)\n",
    "esat_4 = esat_3.exp()\n",
    "esat = esat_4.multiply(0.6108)\n",
    "\n",
    "# Actual vapour pressure (kPa), FAO 56, eq 19.:\n",
    "eact = esat.multiply(RH).divide(100)\n",
    "\n",
    "# Advection factor\n",
    "AF_1 = esat.subtract(eact)\n",
    "AF_2 = AF_1.multiply(0.08).subtract(1)\n",
    "AF_3 = AF_2.exp()\n",
    "AF_4 = AF_3.multiply(EF).multiply(0.985)\n",
    "AF = AF_4.add(1)\n",
    "\n",
    "# Calculate ETa from satellite\n",
    "Etas = EF.multiply(rna).multiply(AF).divide(28.356).divide(245000000).multiply(86400000)\n",
    "\n",
    "# Calculate Kc\n",
    "Kc = Etas.divide(ET0s)\n",
    "\n",
    "# Calculate new ETa\n",
    "Eta_1 = Kc.multiply(ET0).subtract(2.089).divide(1.0864)\n",
    "Eta = Eta_1.multiply(1.0117).add(11.28)\n",
    "\n",
    "# Calculate PAR\n",
    "PAR = tempL_na.divide(8.64).multiply(0.48)\n",
    "\n",
    "# Calculate FPAR\n",
    "FPAR_1 = ndvi.expression(\n",
    "      \"(b1 < 0.125 ) ? 0\" +\n",
    "      \": b1\",\n",
    "      {\n",
    "      'b1' : ndvi.select('nd'),\n",
    "})\n",
    "\n",
    "FPAR = FPAR_1.subtract(0.161).add(1.257)\n",
    "\n",
    "# Calculate APAR\n",
    "APAR = PAR.multiply(FPAR)\n",
    "\n",
    "# Calculate vapor stress scalar\n",
    "v_stress_1 = esat.subtract(eact)\n",
    "v_stress_2 = v_stress_1.log()\n",
    "v_stress_3 = v_stress_2.multiply(0.183)\n",
    "v_stress_4 = img_1.multiply(0.88)\n",
    "v_stress = v_stress_4.subtract(v_stress_3)\n",
    "\n",
    "# Calculate heat stress scalar\n",
    "Jarvis_coeff = (Th - Kt) / (Kt - Tl)\n",
    "\n",
    "h_stress_1 = tdem.subtract(Tl)\n",
    "\n",
    "h_stress_2 = img_1.multiply(Th)\n",
    "h_stress_3 = h_stress_2.subtract(tdem)\n",
    "h_stress_4 = h_stress_3.pow(Jarvis_coeff)\n",
    "\n",
    "h_stress_5 = (Kt - Tl) * math.pow(Th - Kt, Jarvis_coeff)\n",
    "\n",
    "h_stress = h_stress_1.multiply(h_stress_4).divide(h_stress_5)\n",
    "\n",
    "# Calculate moisture stress scalar\n",
    "m_stress = LET.divide((LET).add(H))\n",
    "\n",
    "# Calculate LUE\n",
    "LUE = v_stress.multiply(h_stress).multiply(m_stress).multiply(LUE_max)\n",
    "\n",
    "# Caluclate biomass production\n",
    "biomass_prod = APAR.multiply(LUE).multiply(0.864)\n",
    "\n",
    "# Calculate water productivity from satellite\n",
    "WPs = biomass_prod.divide((Etas).multiply(10))\n",
    "\n",
    "# Calculate new biomass production\n",
    "biomass_pod_n = Eta.multiply(WPs).multiply(10)\n",
    "\n",
    "# Calculate water productivity\n",
    "WP = biomass_pod_n.divide((Eta).multiply(10)).multiply(cropland)"
   ]
  },
  {
   "cell_type": "markdown",
   "metadata": {
    "id": "yTLYgaaOqpb_"
   },
   "source": [
    "# Statistics\n"
   ]
  },
  {
   "cell_type": "code",
   "execution_count": 225,
   "metadata": {
    "colab": {
     "base_uri": "https://localhost:8080/",
     "height": 34
    },
    "executionInfo": {
     "elapsed": 47,
     "status": "ok",
     "timestamp": 1699091380304,
     "user": {
      "displayName": "Yilkal Gebeyehu Mekonnen",
      "userId": "06729841319259100277"
     },
     "user_tz": -180
    },
    "id": "Dy-6RJlHqpcB",
    "outputId": "c55c5418-217d-40ca-85cf-8d967c35cf92"
   },
   "outputs": [
    {
     "data": {
      "text/html": [
       "\n",
       "            <style>\n",
       "                .geemap-dark {\n",
       "                    --jp-widgets-color: white;\n",
       "                    --jp-widgets-label-color: white;\n",
       "                    --jp-ui-font-color1: white;\n",
       "                    --jp-layout-color2: #454545;\n",
       "                    background-color: #383838;\n",
       "                }\n",
       "                    \n",
       "                .geemap-dark .jupyter-button {\n",
       "                    --jp-layout-color3: #383838;\n",
       "                }\n",
       "                \n",
       "                .geemap-colab {\n",
       "                    background-color: var(--colab-primary-surface-color, white);\n",
       "                }\n",
       "                    \n",
       "                .geemap-colab .jupyter-button {\n",
       "                    --jp-layout-color3: var(--colab-primary-surface-color, white);\n",
       "                }\n",
       "            </style>\n",
       "            "
      ],
      "text/plain": [
       "<IPython.core.display.HTML object>"
      ]
     },
     "metadata": {},
     "output_type": "display_data"
    },
    {
     "name": "stdout",
     "output_type": "stream",
     "text": [
      "202304 Mean ETa (mm) 94.72502927981863\n"
     ]
    }
   ],
   "source": [
    "# Reduce the region. The region parameter is the Feature geometry\n",
    "meanDictionary = Eta.reduceRegion(**{\n",
    "        \"reducer\": ee.Reducer.mean(),\n",
    "        \"geometry\": shimburit,\n",
    "        \"scale\": 30,\n",
    "        \"maxPixels\": 1e9,\n",
    "    }\n",
    ")\n",
    "\n",
    "# The result is a Dictionary.  Print it.\n",
    "meaneta = meanDictionary.get(\"constant\")\n",
    "print(system, \"Mean ETa (mm)\", meaneta.getInfo())"
   ]
  },
  {
   "cell_type": "code",
   "execution_count": 226,
   "metadata": {},
   "outputs": [
    {
     "data": {
      "text/html": [
       "\n",
       "            <style>\n",
       "                .geemap-dark {\n",
       "                    --jp-widgets-color: white;\n",
       "                    --jp-widgets-label-color: white;\n",
       "                    --jp-ui-font-color1: white;\n",
       "                    --jp-layout-color2: #454545;\n",
       "                    background-color: #383838;\n",
       "                }\n",
       "                    \n",
       "                .geemap-dark .jupyter-button {\n",
       "                    --jp-layout-color3: #383838;\n",
       "                }\n",
       "                \n",
       "                .geemap-colab {\n",
       "                    background-color: var(--colab-primary-surface-color, white);\n",
       "                }\n",
       "                    \n",
       "                .geemap-colab .jupyter-button {\n",
       "                    --jp-layout-color3: var(--colab-primary-surface-color, white);\n",
       "                }\n",
       "            </style>\n",
       "            "
      ],
      "text/plain": [
       "<IPython.core.display.HTML object>"
      ]
     },
     "metadata": {},
     "output_type": "display_data"
    },
    {
     "name": "stdout",
     "output_type": "stream",
     "text": [
      "202304 stdDev ETa (mm) 8.890392900885377\n"
     ]
    }
   ],
   "source": [
    "# Reduce the region. The region parameter is the Feature geometry\n",
    "meanDictionary = Eta.reduceRegion(**{\n",
    "        \"reducer\": ee.Reducer.stdDev(),\n",
    "        \"geometry\": shimburit,\n",
    "        \"scale\": 30,\n",
    "        \"maxPixels\": 1e9,\n",
    "    }\n",
    ")\n",
    "\n",
    "# The result is a Dictionary.  Print it.\n",
    "stdeta = meanDictionary.get(\"constant\")\n",
    "print(system, \"stdDev ETa (mm)\", stdeta.getInfo())"
   ]
  },
  {
   "cell_type": "raw",
   "metadata": {},
   "source": [
    "# Reduce the region. The region parameter is the Feature geometry\n",
    "meanWP = WP.reduceRegion(**{\n",
    "        \"reducer\": ee.Reducer.mean(),\n",
    "        \"geometry\": shimburit,\n",
    "        \"scale\": 30,\n",
    "        \"maxPixels\": 1e9,\n",
    "    }\n",
    ")\n",
    "\n",
    "# The result is a Dictionary.  Print it.\n",
    "meanwp = meanWP.get(\"constant\")\n",
    "print('Mean Water Productivity (kg/m3)', meanwp.getInfo())"
   ]
  },
  {
   "cell_type": "code",
   "execution_count": 227,
   "metadata": {},
   "outputs": [
    {
     "data": {
      "text/html": [
       "\n",
       "            <style>\n",
       "                .geemap-dark {\n",
       "                    --jp-widgets-color: white;\n",
       "                    --jp-widgets-label-color: white;\n",
       "                    --jp-ui-font-color1: white;\n",
       "                    --jp-layout-color2: #454545;\n",
       "                    background-color: #383838;\n",
       "                }\n",
       "                    \n",
       "                .geemap-dark .jupyter-button {\n",
       "                    --jp-layout-color3: #383838;\n",
       "                }\n",
       "                \n",
       "                .geemap-colab {\n",
       "                    background-color: var(--colab-primary-surface-color, white);\n",
       "                }\n",
       "                    \n",
       "                .geemap-colab .jupyter-button {\n",
       "                    --jp-layout-color3: var(--colab-primary-surface-color, white);\n",
       "                }\n",
       "            </style>\n",
       "            "
      ],
      "text/plain": [
       "<IPython.core.display.HTML object>"
      ]
     },
     "metadata": {},
     "output_type": "display_data"
    }
   ],
   "source": [
    "# Statistics for Wheat Fields\n",
    "fields = ee.FeatureCollection(\"projects/ee-yilkalgebeyehu/assets/Fields\")"
   ]
  },
  {
   "cell_type": "code",
   "execution_count": 228,
   "metadata": {},
   "outputs": [
    {
     "data": {
      "text/html": [
       "\n",
       "            <style>\n",
       "                .geemap-dark {\n",
       "                    --jp-widgets-color: white;\n",
       "                    --jp-widgets-label-color: white;\n",
       "                    --jp-ui-font-color1: white;\n",
       "                    --jp-layout-color2: #454545;\n",
       "                    background-color: #383838;\n",
       "                }\n",
       "                    \n",
       "                .geemap-dark .jupyter-button {\n",
       "                    --jp-layout-color3: #383838;\n",
       "                }\n",
       "                \n",
       "                .geemap-colab {\n",
       "                    background-color: var(--colab-primary-surface-color, white);\n",
       "                }\n",
       "                    \n",
       "                .geemap-colab .jupyter-button {\n",
       "                    --jp-layout-color3: var(--colab-primary-surface-color, white);\n",
       "                }\n",
       "            </style>\n",
       "            "
      ],
      "text/plain": [
       "<IPython.core.display.HTML object>"
      ]
     },
     "metadata": {},
     "output_type": "display_data"
    },
    {
     "name": "stdout",
     "output_type": "stream",
     "text": [
      "202304 Mean ETa (mm) 100.93586887226225\n"
     ]
    }
   ],
   "source": [
    "# Reduce the region. The region parameter is the Feature geometry\n",
    "meanDictionary = Eta.reduceRegion(**{\n",
    "        \"reducer\": ee.Reducer.mean(),\n",
    "        \"geometry\": fields,\n",
    "        \"scale\": 30,\n",
    "        \"maxPixels\": 1e9,\n",
    "    }\n",
    ")\n",
    "\n",
    "# The result is a Dictionary.  Print it.\n",
    "meaneta = meanDictionary.get(\"constant\")\n",
    "print(system, \"Mean ETa (mm)\", meaneta.getInfo())"
   ]
  },
  {
   "cell_type": "code",
   "execution_count": 229,
   "metadata": {},
   "outputs": [
    {
     "data": {
      "text/html": [
       "\n",
       "            <style>\n",
       "                .geemap-dark {\n",
       "                    --jp-widgets-color: white;\n",
       "                    --jp-widgets-label-color: white;\n",
       "                    --jp-ui-font-color1: white;\n",
       "                    --jp-layout-color2: #454545;\n",
       "                    background-color: #383838;\n",
       "                }\n",
       "                    \n",
       "                .geemap-dark .jupyter-button {\n",
       "                    --jp-layout-color3: #383838;\n",
       "                }\n",
       "                \n",
       "                .geemap-colab {\n",
       "                    background-color: var(--colab-primary-surface-color, white);\n",
       "                }\n",
       "                    \n",
       "                .geemap-colab .jupyter-button {\n",
       "                    --jp-layout-color3: var(--colab-primary-surface-color, white);\n",
       "                }\n",
       "            </style>\n",
       "            "
      ],
      "text/plain": [
       "<IPython.core.display.HTML object>"
      ]
     },
     "metadata": {},
     "output_type": "display_data"
    },
    {
     "name": "stdout",
     "output_type": "stream",
     "text": [
      "202304 stdDev ETa (mm) 2.5780673092795934\n"
     ]
    }
   ],
   "source": [
    "# Reduce the region. The region parameter is the Feature geometry\n",
    "meanDictionary = Eta.reduceRegion(**{\n",
    "        \"reducer\": ee.Reducer.stdDev(),\n",
    "        \"geometry\": fields,\n",
    "        \"scale\": 30,\n",
    "        \"maxPixels\": 1e9,\n",
    "    }\n",
    ")\n",
    "\n",
    "# The result is a Dictionary.  Print it.\n",
    "stdeta = meanDictionary.get(\"constant\")\n",
    "print(system, \"stdDev ETa (mm)\", stdeta.getInfo())"
   ]
  },
  {
   "cell_type": "markdown",
   "metadata": {},
   "source": [
    "# Export to Local Drive"
   ]
  },
  {
   "cell_type": "raw",
   "metadata": {},
   "source": [
    "roi = shimburit.geometry()"
   ]
  },
  {
   "cell_type": "raw",
   "metadata": {},
   "source": [
    "# Download ETa to local drive\n",
    "geemap.ee_export_image(Eta, filename=\"L8_\" + system + \"_ETa.tif\", scale=30, region=roi)"
   ]
  },
  {
   "cell_type": "raw",
   "metadata": {},
   "source": [
    "# Download WP to local drive\n",
    "geemap.ee_export_image(WP, filename=\"L8_\" + system + \"_WP.tif\", scale=30, region=roi)"
   ]
  },
  {
   "cell_type": "raw",
   "metadata": {},
   "source": [
    "# Download Kc to local drive\n",
    "geemap.ee_export_image(Kc, filename=\"L8_\" + system + \"_Kc.tif\", scale=30, region=roi)"
   ]
  },
  {
   "cell_type": "raw",
   "metadata": {},
   "source": [
    "# Display ETa\n",
    "visParams_eta = {\n",
    "    'min': 0,\n",
    "    'max': 200,\n",
    "    'palette': [\"black\", \"blue\", \"cyan\", \"green\", \"yellow\", \"red\"]\n",
    "}\n",
    "\n",
    "Map.addLayer(Eta, visParams_eta, \"Landsat-8 ETa\", False)"
   ]
  },
  {
   "cell_type": "raw",
   "metadata": {},
   "source": [
    "Map"
   ]
  }
 ],
 "metadata": {
  "colab": {
   "provenance": [],
   "toc_visible": true
  },
  "kernelspec": {
   "display_name": "Python 3 (ipykernel)",
   "language": "python",
   "name": "python3"
  },
  "language_info": {
   "codemirror_mode": {
    "name": "ipython",
    "version": 3
   },
   "file_extension": ".py",
   "mimetype": "text/x-python",
   "name": "python",
   "nbconvert_exporter": "python",
   "pygments_lexer": "ipython3",
   "version": "3.12.1"
  },
  "toc": {
   "base_numbering": 1,
   "nav_menu": {
    "height": "23px",
    "width": "160px"
   },
   "number_sections": true,
   "sideBar": true,
   "skip_h1_title": false,
   "title_cell": "Table of Contents",
   "title_sidebar": "Contents",
   "toc_cell": true,
   "toc_position": {
    "height": "477px",
    "left": "59px",
    "top": "111.125px",
    "width": "180px"
   },
   "toc_section_display": true,
   "toc_window_display": true
  }
 },
 "nbformat": 4,
 "nbformat_minor": 4
}
