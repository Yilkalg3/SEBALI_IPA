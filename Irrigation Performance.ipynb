{
 "cells": [
  {
   "cell_type": "markdown",
   "metadata": {},
   "source": [
    "# 1. Import modules/libraries"
   ]
  },
  {
   "cell_type": "code",
   "execution_count": null,
   "metadata": {},
   "outputs": [],
   "source": [
    "import ee, geemap, os, calendar, datetime, shapefile, sys, glob\n",
    "\n",
    "import pandas as pd \n",
    "import numpy as np \n",
    "from matplotlib import pyplot as plt"
   ]
  },
  {
   "cell_type": "code",
   "execution_count": null,
   "metadata": {},
   "outputs": [],
   "source": [
    "Map = geemap.Map(center=(10.393211,37.377579), zoom=12)\n",
    "Map"
   ]
  },
  {
   "cell_type": "markdown",
   "metadata": {},
   "source": [
    "## Define Season"
   ]
  },
  {
   "cell_type": "code",
   "execution_count": null,
   "metadata": {},
   "outputs": [],
   "source": [
    "start = '2021-12-01'\n",
    "end = '2022-04-31'\n",
    "season = ee.Filter.date(start,end)"
   ]
  },
  {
   "cell_type": "markdown",
   "metadata": {},
   "source": [
    "# 2. Import the input data:"
   ]
  },
  {
   "cell_type": "markdown",
   "metadata": {},
   "source": [
    "## 2.1. Read SEBALI Outputs from Google Drive"
   ]
  },
  {
   "cell_type": "code",
   "execution_count": null,
   "metadata": {},
   "outputs": [],
   "source": []
  },
  {
   "cell_type": "markdown",
   "metadata": {},
   "source": [
    "## 2.2. Read geographical extent of the study area"
   ]
  },
  {
   "cell_type": "code",
   "execution_count": 13,
   "metadata": {},
   "outputs": [],
   "source": [
    "shumbrit = ee.FeatureCollection(\"projects/ee-yilkalgebeyehu/assets/Shumbrit_Bounday\")\n",
    "Map.addLayer(shumbrit, {}, 'Scheme')"
   ]
  },
  {
   "cell_type": "code",
   "execution_count": null,
   "metadata": {},
   "outputs": [],
   "source": []
  },
  {
   "cell_type": "markdown",
   "metadata": {},
   "source": [
    "# 3. Caculate Seasonal Parameters"
   ]
  },
  {
   "cell_type": "markdown",
   "metadata": {},
   "source": [
    "## 3.1. Define and import the Kc per month"
   ]
  },
  {
   "cell_type": "markdown",
   "metadata": {},
   "source": [
    "From CROPWAT 8 software"
   ]
  },
  {
   "cell_type": "markdown",
   "metadata": {},
   "source": [
    "## 3.2. Seasonal Rainfall"
   ]
  },
  {
   "cell_type": "code",
   "execution_count": null,
   "metadata": {},
   "outputs": [],
   "source": [
    "# Monthly Rainfall from CHIRPS \n",
    "chirps = ee.ImageCollection(\"UCSB-CHG/CHIRPS/DAILY\").filter(season)\\\n",
    "    .sum()\n",
    "\n",
    "\n",
    "rain = chirps.reduceRegion(**{\n",
    "  'reducer': ee.Reducer.mean(),\n",
    "  'geometry': shumbrit.geometry(),\n",
    "  'scale': 5566,\n",
    "  'maxPixels': 1e9\n",
    "})\n",
    "\n",
    "# The result is a Dictionary.  Print it.\n",
    "rain = rain.get('precipitation')\n",
    "print('Seasonal Rainfall (mm)',  rain.getInfo())"
   ]
  },
  {
   "cell_type": "markdown",
   "metadata": {},
   "source": [
    "# 4. Performance Indicators"
   ]
  },
  {
   "cell_type": "markdown",
   "metadata": {},
   "source": [
    "## 4.1. Calculate uniformity of water consumption\n",
    "* Equity is defined as the coefficients of variation (CV) of seasonal ETa in the area of interest.\n",
    "* It measures the evenness of the water supply in an irrigation scheme.\n",
    "* Note: CV of 0 to 10% is good, 10 to 25% is fair and CV > 25% is poor uniformity (Bastiaanssen et al., 1996)"
   ]
  },
  {
   "cell_type": "code",
   "execution_count": null,
   "metadata": {},
   "outputs": [],
   "source": [
    "# Uniformity of water Consumption \n",
    "# get seasonal AETI\n",
    "# AETI_fhs = glob.glob(r'..\\Data\\2L2_AETI_season\\*.tif') \n",
    "\n",
    "for i in range(len(AETI_fhs)):\n",
    "    AETI = gis.OpenAsArray(AETI_fhs[i], nan_values=True)\n",
    "    \n",
    "    AETIm   = np.nanmean(AETI)\n",
    "    AETIsd  = np.nanstd(AETI)\n",
    "    \n",
    "    CV_AETI = (AETIsd / AETIm) * 100\n",
    "    \n",
    "    # Identify the date from the file name\n",
    "    date  = os.path.basename(AETI_fhs[i]).split('.')[0].replace('AETI', '').replace('_', ' ') \n",
    "    \n",
    "    if CV_AETI < 10:\n",
    "        U = 'Good Uniformity'\n",
    "    if (CV_AETI >= 10) and (CV_AETI < 25):\n",
    "        U = 'Fair Uniformity'\n",
    "    else: \n",
    "        U = 'Poor Uniformity'\n",
    "\n",
    "    print ('CV of AETI in', date, '=', round(CV_AETI, 1), ',', U)"
   ]
  },
  {
   "cell_type": "markdown",
   "metadata": {},
   "source": [
    "## 4.2. Calculate adequacy (relative evapotranspiration)"
   ]
  },
  {
   "cell_type": "code",
   "execution_count": null,
   "metadata": {},
   "outputs": [],
   "source": [
    "## Calculate and save raster adequacy layer\n",
    "\n",
    "# collecting Geoinfo such as projection, the x and y axis\n",
    "in_fh = AETI_fhs[0]      \n",
    "driver, NDV, xsize, ysize, GeoT, Projection = gis.GetGeoInfo(in_fh)\n",
    "spatial_extent = (GeoT[0], GeoT[0] + GeoT[1] * xsize, GeoT[3] + GeoT[5] * ysize, GeoT[3])  # get spatial extent of raster\n",
    "\n",
    "for ETfh, ETpfh in zip(AETI_fhs, ETp_fhs):\n",
    "    AETI = gis.OpenAsArray(ETfh,  nan_values=True)\n",
    "    ETp  = gis.OpenAsArray(ETpfh, nan_values=True)\n",
    "    \n",
    "    ETa_by_ETp = AETI / ETp\n",
    "    \n",
    "    # Identify the date from the file name\n",
    "    date  = os.path.basename(ETfh).split('.')[0].replace('AETI', '').replace('_', ' ') \n",
    "        \n",
    "    # update the file name, and save into output folder\n",
    "    basename  = os.path.basename(ETfh).replace('AETI', 'Adequacy')\n",
    "    output_fn = os.path.join(output_folderAd, basename)\n",
    "    gis.CreateGeoTiff(output_fn, ETa_by_ETp, driver, NDV, xsize, ysize, GeoT, Projection) \n",
    "  \n",
    "    # Plot the raster map\n",
    "    seasonal = ETa_by_ETp\n",
    "    \n",
    "    plt.figure(figsize = (12,8))\n",
    "    plt.imshow(seasonal, cmap='RdYlGn', vmin=np.nanmin(seasonal), vmax=np.nanmax(seasonal), extent=spatial_extent)\n",
    "    plt.colorbar(shrink=0.75, label='Adequacy [-]')\n",
    "    plt.xlabel('Longitude ($^{\\circ}$ East)', fontsize=12)  # add axes label\n",
    "    plt.ylabel('Latitude ($^{\\circ}$ North)', fontsize=12)\n",
    "    plt.title('Adequacy [-] ' + date)\n",
    "    plt.show ()"
   ]
  },
  {
   "cell_type": "markdown",
   "metadata": {},
   "source": [
    "## 4.3. Calculate Relative water Deficit (RWD)"
   ]
  },
  {
   "cell_type": "markdown",
   "metadata": {},
   "source": [
    "RWD = 1-ETa/ETx"
   ]
  },
  {
   "cell_type": "code",
   "execution_count": null,
   "metadata": {},
   "outputs": [],
   "source": [
    "# collecting Geoinfo such as projection, the x and y axis\n",
    "in_fh = AETI_fhs[0]      \n",
    "driver, NDV, xsize, ysize, GeoT, Projection = gis.GetGeoInfo(in_fh)\n",
    "spatial_extent = (GeoT[0], GeoT[0] + GeoT[1] * xsize, GeoT[3] + GeoT[5] * ysize, GeoT[3])  # get spatial extent of raster\n",
    "   \n",
    "for i in range(len(AETI_fhs)):\n",
    "    AETI = gis.OpenAsArray(AETI_fhs[i], nan_values=True)\n",
    "    \n",
    "    # reshape the arrays\n",
    "    AETI1_1D  = np.reshape(AETI,  AETI.shape[0]*AETI.shape[1])\n",
    "    ETx       = np.nanpercentile(AETI1_1D, 99)\n",
    "    \n",
    "    AETI_mean = np.nanmean(AETI)\n",
    "   \n",
    "    RWD = 1-(AETI_mean/ETx)\n",
    "    \n",
    "    # Identify the date from the file name\n",
    "    date  = os.path.basename(AETI_fhs[i]).split('.')[0].replace('AETI', '').replace('_', ' ') \n",
    "    \n",
    "    print ('Relative water deficit', date, '=', round(RWD, 2))"
   ]
  },
  {
   "cell_type": "markdown",
   "metadata": {},
   "source": [
    "## 4.4. Depleted Fraction"
   ]
  },
  {
   "cell_type": "markdown",
   "metadata": {},
   "source": [
    "DF = ETa/Rain+Vc\n",
    "* ETa is actual evapotranspiration\n",
    "* Rain: seasonal rainfall calculated from CHIRPS daily preciptation\n",
    "* Vc is the volume of irrigation supply "
   ]
  },
  {
   "cell_type": "code",
   "execution_count": null,
   "metadata": {},
   "outputs": [],
   "source": [
    "df = ETa_season.devide(rain).add(vc)"
   ]
  },
  {
   "cell_type": "markdown",
   "metadata": {},
   "source": [
    "## 4.5. Crop Water Productivity"
   ]
  },
  {
   "cell_type": "markdown",
   "metadata": {},
   "source": [
    "CWP = Yield/ETa"
   ]
  },
  {
   "cell_type": "code",
   "execution_count": null,
   "metadata": {},
   "outputs": [],
   "source": []
  },
  {
   "cell_type": "markdown",
   "metadata": {},
   "source": [
    "## 4.6. Sustainablity"
   ]
  },
  {
   "cell_type": "markdown",
   "metadata": {},
   "source": [
    "Based on Irrigated area"
   ]
  }
 ],
 "metadata": {
  "kernelspec": {
   "display_name": "ArcGISPro",
   "language": "Python",
   "name": "python3"
  },
  "language_info": {
   "file_extension": ".py",
   "name": "python",
   "version": "3"
  },
  "toc": {
   "base_numbering": 1,
   "nav_menu": {},
   "number_sections": true,
   "sideBar": true,
   "skip_h1_title": false,
   "title_cell": "Table of Contents",
   "title_sidebar": "Contents",
   "toc_cell": false,
   "toc_position": {},
   "toc_section_display": true,
   "toc_window_display": false
  },
  "vscode": {
   "interpreter": {
    "hash": "31f2aee4e71d21fbe5cf8b01ff0e069b9275f58929596ceb00d14d90e3e16cd6"
   }
  }
 },
 "nbformat": 4,
 "nbformat_minor": 4
}
